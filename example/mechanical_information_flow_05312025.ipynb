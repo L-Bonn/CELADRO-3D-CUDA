{
 "cells": [
  {
   "cell_type": "code",
   "execution_count": 1,
   "id": "acae95fb-3f90-4dca-8d3f-de7d80a2ecdc",
   "metadata": {},
   "outputs": [
    {
     "name": "stderr",
     "output_type": "stream",
     "text": [
      "/home/siavash/.local/lib/python3.10/site-packages/matplotlib/projections/__init__.py:63: UserWarning: Unable to import Axes3D. This may be due to multiple versions of Matplotlib being installed (e.g. as a system package and as a pip package). As a result, the 3D projection is not available.\n",
      "  warnings.warn(\"Unable to import Axes3D. This may be due to multiple versions of \"\n"
     ]
    }
   ],
   "source": [
    "import sys\n",
    "sys.path.insert(0, \"celadro_3D_scripts_final/plot/\")\n",
    "import numpy as np\n",
    "import matplotlib.pyplot as plt\n",
    "from scipy import ndimage\n",
    "from mpl_toolkits.axes_grid1 import make_axes_locatable\n",
    "import plot\n",
    "import archive\n",
    "import animation\n",
    "import gc\n",
    "import zlib\n",
    "from sklearn.metrics import mutual_info_score"
   ]
  },
  {
   "cell_type": "code",
   "execution_count": 2,
   "id": "381b47b9-74d4-40cc-be6d-215632806c39",
   "metadata": {},
   "outputs": [],
   "source": [
    "ar = archive.loadarchive('mpress-full')\n",
    "xsec = 8\n",
    "max_delta = 50\n",
    "N = 121"
   ]
  },
  {
   "cell_type": "markdown",
   "id": "7513b8f9-317a-44ec-9d9c-3caa0e0d44be",
   "metadata": {},
   "source": [
    "### Plot Kolmogorov Complexity"
   ]
  },
  {
   "cell_type": "code",
   "execution_count": 3,
   "id": "c946652e-6795-45a6-9e0c-a2afef05d167",
   "metadata": {},
   "outputs": [],
   "source": [
    "def approximate_kolmogorov_complexity(field):\n",
    "    field = field.ravel()\n",
    "    byte_string = str(field).encode('utf-8')\n",
    "    compressed_data = zlib.compress(byte_string)\n",
    "    return len(compressed_data)\n",
    "\n",
    "def get_isotropic_stress(frame):\n",
    "    sxx = frame.field_sxx\n",
    "    sxx = np.reshape(sxx,(frame.parameters['Size'][2],frame.parameters['Size'][0],frame.parameters['Size'][1]))\n",
    "    syy = frame.field_syy\n",
    "    syy = np.reshape(syy,(frame.parameters['Size'][2],frame.parameters['Size'][0],frame.parameters['Size'][1]))\n",
    "    szz = frame.field_szz\n",
    "    szz = np.reshape(szz,(frame.parameters['Size'][2],frame.parameters['Size'][0],frame.parameters['Size'][1]))\n",
    "    p = (1/3)*(sxx+syy+szz)\n",
    "    p = p[xsec,:,:]\n",
    "    return p\n",
    "    \n",
    "def measure_kc_ratio_over_deltas(ar,N,xsec,max_delta=50):\n",
    "    avg_kc_ratio = []\n",
    "    var_kc_ratio = []\n",
    "    for i in range(max_delta): \n",
    "        kc_ratios = []\n",
    "        for j in range(N-i-1):\n",
    "            field_j = ar.read_frame(j)\n",
    "            p_j = get_isotropic_stress(field_j)\n",
    "            field_ij = ar.read_frame(j+i)\n",
    "            p_ij = get_isotropic_stress(field_ij)\n",
    "            kc_j = approximate_kolmogorov_complexity(p_j)\n",
    "            kc_ij = approximate_kolmogorov_complexity(p_ij)\n",
    "            kc_ratio = kc_ij/kc_j\n",
    "            kc_ratios.append(kc_ratio)\n",
    "            '''\n",
    "            fig, (ax1, ax2) = plt.subplots(1, 2, figsize=(8, 4))  # Create a figure with two subplots\n",
    "            im1 = ax1.imshow(p_j, interpolation='lanczos', cmap='jet', origin='lower')\n",
    "            fig.colorbar(im1, ax=ax1, orientation='horizontal')\n",
    "            im2 = ax2.imshow(p_ij, interpolation='lanczos', cmap='jet', origin='lower')\n",
    "            fig.colorbar(im2, ax=ax2, orientation='horizontal')\n",
    "            plt.show()\n",
    "            '''\n",
    "        avg_kc_ratio.append(np.mean(kc_ratios))\n",
    "        var_kc_ratio.append(np.var(kc_ratios))\n",
    "        print('done computing delta: ',i)\n",
    "    return range(1,max_delta),avg_kc_ratio,var_kc_ratio\n",
    "                  "
   ]
  },
  {
   "cell_type": "code",
   "execution_count": 4,
   "id": "25faec2f-1991-411d-bd09-a3dc1c031de6",
   "metadata": {},
   "outputs": [
    {
     "name": "stdout",
     "output_type": "stream",
     "text": [
      "done computing delta:  25\n",
      "done computing delta:  26\n",
      "done computing delta:  27\n",
      "done computing delta:  28\n",
      "done computing delta:  29\n",
      "done computing delta:  30\n",
      "done computing delta:  31\n",
      "done computing delta:  32\n",
      "done computing delta:  33\n",
      "done computing delta:  34\n",
      "done computing delta:  35\n",
      "done computing delta:  36\n",
      "done computing delta:  37\n",
      "done computing delta:  38\n",
      "done computing delta:  39\n",
      "done computing delta:  40\n",
      "done computing delta:  41\n",
      "done computing delta:  42\n",
      "done computing delta:  43\n",
      "done computing delta:  44\n",
      "done computing delta:  45\n",
      "done computing delta:  46\n",
      "done computing delta:  47\n",
      "done computing delta:  48\n",
      "done computing delta:  49\n"
     ]
    }
   ],
   "source": [
    "time, mean, var = measure_kc_ratio_over_deltas(ar,N,xsec,max_delta)\n",
    "\n",
    "fig = plt.figure(figsize=(4,4))\n",
    "plt.plot(mean)\n",
    "plt.title('mean')\n",
    "plt.show()\n",
    "\n",
    "fig = plt.figure(figsize=(4,4))\n",
    "plt.plot(var)\n",
    "plt.title('var')\n",
    "plt.show()"
   ]
  },
  {
   "cell_type": "markdown",
   "id": "c3c109ae-cbc5-4b37-a5ce-3296779a79ef",
   "metadata": {},
   "source": [
    "### Plot Mutual Information"
   ]
  },
  {
   "cell_type": "code",
   "execution_count": 11,
   "id": "395ded6b-66a7-492f-b0d3-4c030e3efb2f",
   "metadata": {},
   "outputs": [],
   "source": [
    "def discretize(data, nbins=16):\n",
    "    data = data.ravel()\n",
    "    data_min, data_max = np.min(data), np.max(data)\n",
    "    if data_min == data_max:\n",
    "        return np.zeros_like(data, dtype=int)\n",
    "    \n",
    "    bin_edges = np.linspace(data_min, data_max, nbins + 1)\n",
    "    bin_indices = np.digitize(data, bin_edges) - 1\n",
    "    bin_indices = np.clip(bin_indices, 0, nbins-1)\n",
    "    return bin_indices\n",
    "\n",
    "def mutual_info_sklearn(x, y, nbins=16):\n",
    "    x_disc = discretize(x, nbins)\n",
    "    y_disc = discretize(y, nbins)\n",
    "    mi_value = mutual_info_score(x_disc, y_disc)\n",
    "    return mi_value\n",
    "\n",
    "def measure_MI_over_deltas(ar,N,xsec,max_delta=50):\n",
    "    #N = ar._nframes\n",
    "    #N = 604\n",
    "    avg_MI_ratio = []\n",
    "    var_MI_ratio = []\n",
    "    for i in range(1,max_delta): \n",
    "        MIs = []\n",
    "        for j in range(N-i):\n",
    "            field_j = ar.read_frame(j)\n",
    "            p_j = get_isotropic_stress(field_j)\n",
    "            field_ij = ar.read_frame(j+i)\n",
    "            p_ij = get_isotropic_stress(field_ij)\n",
    "            MI = mutual_info_sklearn(p_j,p_ij)\n",
    "            MIs.append(MI)\n",
    "            \n",
    "        avg_MI_ratio.append(np.mean(MIs))\n",
    "        var_MI_ratio.append(np.var(MIs))\n",
    "        print('done computing delta: ',i)\n",
    "    return range(1,max_delta),avg_MI_ratio,var_MI_ratio"
   ]
  },
  {
   "cell_type": "code",
   "execution_count": 12,
   "id": "63fea9d9-dda9-4fb5-9f5a-27402fbfe40c",
   "metadata": {},
   "outputs": [
    {
     "name": "stdout",
     "output_type": "stream",
     "text": [
      "done computing delta:  1\n",
      "done computing delta:  2\n",
      "done computing delta:  3\n",
      "done computing delta:  4\n",
      "done computing delta:  5\n",
      "done computing delta:  6\n",
      "done computing delta:  7\n",
      "done computing delta:  8\n",
      "done computing delta:  9\n",
      "done computing delta:  10\n",
      "done computing delta:  11\n",
      "done computing delta:  12\n",
      "done computing delta:  13\n",
      "done computing delta:  14\n",
      "done computing delta:  15\n",
      "done computing delta:  16\n",
      "done computing delta:  17\n",
      "done computing delta:  18\n",
      "done computing delta:  19\n",
      "done computing delta:  20\n",
      "done computing delta:  21\n",
      "done computing delta:  22\n",
      "done computing delta:  23\n",
      "done computing delta:  24\n",
      "done computing delta:  25\n",
      "done computing delta:  26\n",
      "done computing delta:  27\n",
      "done computing delta:  28\n",
      "done computing delta:  29\n",
      "done computing delta:  30\n",
      "done computing delta:  31\n",
      "done computing delta:  32\n",
      "done computing delta:  33\n",
      "done computing delta:  34\n",
      "done computing delta:  35\n",
      "done computing delta:  36\n",
      "done computing delta:  37\n",
      "done computing delta:  38\n",
      "done computing delta:  39\n",
      "done computing delta:  40\n",
      "done computing delta:  41\n",
      "done computing delta:  42\n",
      "done computing delta:  43\n",
      "done computing delta:  44\n",
      "done computing delta:  45\n",
      "done computing delta:  46\n",
      "done computing delta:  47\n",
      "done computing delta:  48\n",
      "done computing delta:  49\n"
     ]
    },
    {
     "data": {
      "image/png": "[encoded data removed]",
      "text/plain": [
       "<Figure size 400x400 with 1 Axes>"
      ]
     },
     "metadata": {},
     "output_type": "display_data"
    },
    {
     "data": {
      "image/png": "[encoded data removed]",
      "text/plain": [
       "<Figure size 400x400 with 1 Axes>"
      ]
     },
     "metadata": {},
     "output_type": "display_data"
    }
   ],
   "source": [
    "time, mean, var = measure_MI_over_deltas(ar,N,xsec,max_delta)\n",
    "\n",
    "fig = plt.figure(figsize=(4,4))\n",
    "plt.plot(mean)\n",
    "plt.title('mean')\n",
    "plt.show()\n",
    "\n",
    "fig = plt.figure(figsize=(4,4))\n",
    "plt.plot(var)\n",
    "plt.title('var')\n",
    "plt.show()"
   ]
  },
  {
   "cell_type": "markdown",
   "id": "59c9f60a-1c6d-420e-b9c8-0453b25c9955",
   "metadata": {},
   "source": [
    "### Plot Transfer Entropy"
   ]
  },
  {
   "cell_type": "code",
   "execution_count": null,
   "id": "639db263-4972-4d69-8a68-4d9b89865c24",
   "metadata": {},
   "outputs": [],
   "source": []
  },
  {
   "cell_type": "markdown",
   "id": "6bba3171-7192-43a8-b8f3-36f6583b7dc3",
   "metadata": {},
   "source": [
    "### Plot Stress Fields"
   ]
  },
  {
   "cell_type": "code",
   "execution_count": null,
   "id": "08684a18-0bce-4f68-8d57-75bfe36c6608",
   "metadata": {},
   "outputs": [],
   "source": [
    "rng = np.arange(1,ar._nframes+1,1)\n",
    "for i in rng: \n",
    "    #fname = ''\n",
    "    print(i)\n",
    "    frame = ar.read_frame(i)\n",
    "    '''\n",
    "    sxx = frame.field_sxx\n",
    "    sxx = np.reshape(sxx,(frame.parameters['Size'][2],frame.parameters['Size'][0],frame.parameters['Size'][1]))\n",
    "    syy = frame.field_syy\n",
    "    syy = np.reshape(syy,(frame.parameters['Size'][2],frame.parameters['Size'][0],frame.parameters['Size'][1]))\n",
    "    szz = frame.field_szz\n",
    "    szz = np.reshape(szz,(frame.parameters['Size'][2],frame.parameters['Size'][0],frame.parameters['Size'][1]))\n",
    "    p = (1/3)*(sxx+syy+szz)\n",
    "    p = p[xsec,:,:]\n",
    "    '''\n",
    "    '''\n",
    "    fig, ax = plt.subplots(figsize=(4, 4))\n",
    "    im = ax.imshow(p[xsec, :, :], interpolation='lanczos', cmap='jet', origin='lower')\n",
    "    plt.colorbar(im, orientation='horizontal')\n",
    "    plt.show()\n",
    "    '''\n",
    "    del frame\n",
    "\n"
   ]
  },
  {
   "cell_type": "code",
   "execution_count": null,
   "id": "09a8f324-0887-488e-82cb-8d68e5c05fda",
   "metadata": {},
   "outputs": [],
   "source": [
    "print(ar._ninfo)"
   ]
  },
  {
   "cell_type": "code",
   "execution_count": null,
   "id": "9ce5c001-79f4-4236-abe6-5d0d44e6f46a",
   "metadata": {},
   "outputs": [],
   "source": []
  }
 ],
 "metadata": {
  "kernelspec": {
   "display_name": "Python 3 (ipykernel)",
   "language": "python",
   "name": "python3"
  },
  "language_info": {
   "codemirror_mode": {
    "name": "ipython",
    "version": 3
   },
   "file_extension": ".py",
   "mimetype": "text/x-python",
   "name": "python",
   "nbconvert_exporter": "python",
   "pygments_lexer": "ipython3",
   "version": "3.10.12"
  }
 },
 "nbformat": 4,
 "nbformat_minor": 5
}
