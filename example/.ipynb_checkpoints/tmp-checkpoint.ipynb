{
 "cells": [
  {
   "cell_type": "code",
   "execution_count": 5,
   "id": "2b9b16b0-57b3-4ff3-a84d-18507e9e6f37",
   "metadata": {},
   "outputs": [],
   "source": [
    "import numpy as np \n",
    "import os \n",
    "import sys\n",
    "sys.path.insert(0, \"celadro_3D_scripts_final/plot/\")\n",
    "import matplotlib.pyplot as plt\n",
    "from scipy import ndimage\n",
    "import plot\n",
    "import archive\n",
    "import struct\n",
    "from tqdm import tqdm  # Import tqdm for the progress bar\n"
   ]
  },
  {
   "cell_type": "code",
   "execution_count": 6,
   "id": "c9cd9244-c9a9-4434-acba-17b143de8a77",
   "metadata": {},
   "outputs": [],
   "source": [
    "def read_cellHist_binary(filename):\n",
    "    \"\"\"\n",
    "    Reads snapshots from 'filename' in the order:\n",
    "      [timeVal (double, 8 bytes)]\n",
    "      [nCells  (int,    4 bytes)]\n",
    "      For each of the nCells (36 bytes):\n",
    "         cellID       (int,    4 bytes)\n",
    "         birth_time   (double, 8 bytes)\n",
    "         death_time   (double, 8 bytes)\n",
    "         parent       (int,    4 bytes)\n",
    "         physicalprop (double, 8 bytes)\n",
    "         generation   (int,    4 bytes)\n",
    "\n",
    "    Returns a list of snapshots. Each snapshot is (timeVal, cellMap).\n",
    "    'cellMap' is a dict: { cellID -> {\n",
    "        \"birth_time\":   float,\n",
    "        \"death_time\":   float,\n",
    "        \"parent\":       int,\n",
    "        \"physicalprop\": float,\n",
    "        \"generation\":   int\n",
    "    } }\n",
    "    \"\"\"\n",
    "    snapshots = []\n",
    "    with open(filename, 'rb') as f:\n",
    "        while True:\n",
    "            # 1) Read timeVal (double = 8 bytes)\n",
    "            buf = f.read(8)\n",
    "            if len(buf) < 8:\n",
    "                break  # end-of-file\n",
    "            (timeVal,) = struct.unpack('=d', buf)\n",
    "\n",
    "            # 2) Read nCells (int = 4 bytes)\n",
    "            buf = f.read(4)\n",
    "            if len(buf) < 4:\n",
    "                break\n",
    "            (nCells,) = struct.unpack('=i', buf)\n",
    "\n",
    "            cellMap = {}\n",
    "            for _ in range(nCells):\n",
    "                # Read the 36-byte chunk for each cell\n",
    "                chunk = f.read(36)\n",
    "                if len(chunk) < 36:\n",
    "                    break  # partial data => break\n",
    "\n",
    "                # Unpack in the same order we wrote:\n",
    "                # i, d, d, i, d, i  =>  4 + 8 + 8 + 4 + 8 + 4 = 36\n",
    "                cellID, birth_time, death_time, parent, physicalprop, generation = \\\n",
    "                    struct.unpack('=i d d i d i', chunk)\n",
    "\n",
    "                # Store into a Python dict\n",
    "                cellMap[cellID] = {\n",
    "                    \"birth_time\":   birth_time,\n",
    "                    \"death_time\":   death_time,\n",
    "                    \"parent\":       parent,\n",
    "                    \"physicalprop\": physicalprop,\n",
    "                    \"generation\":   generation\n",
    "                }\n",
    "\n",
    "            snapshots.append((timeVal, cellMap))\n",
    "\n",
    "    return snapshots"
   ]
  },
  {
   "cell_type": "code",
   "execution_count": 10,
   "id": "52f114f6-14d2-4cc2-84a0-5136b6e69af8",
   "metadata": {},
   "outputs": [
    {
     "name": "stderr",
     "output_type": "stream",
     "text": [
      "Processing time:   1%|██▏                                                                                                                                                                              | 1/79 [00:01<01:23,  1.08s/it]"
     ]
    },
    {
     "name": "stdout",
     "output_type": "stream",
     "text": [
      "cid: 0 t: 0.0 ncells: 25\n",
      "cid: 1 t: 0.0 ncells: 25\n",
      "cid: 2 t: 0.0 ncells: 25\n",
      "cid: 3 t: 0.0 ncells: 25\n",
      "cid: 4 t: 0.0 ncells: 25\n",
      "cid: 5 t: 0.0 ncells: 25\n",
      "cid: 6 t: 0.0 ncells: 25\n",
      "cid: 7 t: 0.0 ncells: 25\n",
      "cid: 8 t: 0.0 ncells: 25\n",
      "cid: 9 t: 0.0 ncells: 25\n",
      "cid: 10 t: 0.0 ncells: 25\n",
      "cid: 11 t: 0.0 ncells: 25\n",
      "cid: 12 t: 0.0 ncells: 25\n",
      "cid: 13 t: 0.0 ncells: 25\n",
      "cid: 14 t: 0.0 ncells: 25\n",
      "cid: 15 t: 0.0 ncells: 25\n",
      "cid: 16 t: 0.0 ncells: 25\n",
      "cid: 17 t: 0.0 ncells: 25\n",
      "cid: 18 t: 0.0 ncells: 25\n",
      "cid: 19 t: 0.0 ncells: 25\n",
      "cid: 20 t: 0.0 ncells: 25\n",
      "cid: 21 t: 0.0 ncells: 25\n",
      "cid: 22 t: 0.0 ncells: 25\n",
      "cid: 23 t: 0.0 ncells: 25\n",
      "cid: 24 t: 0.0 ncells: 25\n"
     ]
    },
    {
     "name": "stderr",
     "output_type": "stream",
     "text": [
      "Processing time:   3%|████▍                                                                                                                                                                            | 2/79 [00:02<01:33,  1.22s/it]"
     ]
    },
    {
     "name": "stdout",
     "output_type": "stream",
     "text": [
      "cid: 0 t: 10.0 ncells: 25\n",
      "cid: 1 t: 10.0 ncells: 25\n",
      "cid: 2 t: 10.0 ncells: 25\n",
      "cid: 3 t: 10.0 ncells: 25\n",
      "cid: 4 t: 10.0 ncells: 25\n",
      "cid: 5 t: 10.0 ncells: 25\n",
      "cid: 6 t: 10.0 ncells: 25\n",
      "cid: 7 t: 10.0 ncells: 25\n",
      "cid: 8 t: 10.0 ncells: 25\n",
      "cid: 9 t: 10.0 ncells: 25\n",
      "cid: 10 t: 10.0 ncells: 25\n",
      "cid: 11 t: 10.0 ncells: 25\n",
      "cid: 12 t: 10.0 ncells: 25\n",
      "cid: 13 t: 10.0 ncells: 25\n",
      "cid: 14 t: 10.0 ncells: 25\n",
      "cid: 15 t: 10.0 ncells: 25\n",
      "cid: 16 t: 10.0 ncells: 25\n",
      "cid: 17 t: 10.0 ncells: 25\n",
      "cid: 18 t: 10.0 ncells: 25\n",
      "cid: 19 t: 10.0 ncells: 25\n",
      "cid: 20 t: 10.0 ncells: 25\n",
      "cid: 21 t: 10.0 ncells: 25\n",
      "cid: 22 t: 10.0 ncells: 25\n",
      "cid: 23 t: 10.0 ncells: 25\n",
      "cid: 24 t: 10.0 ncells: 25\n"
     ]
    },
    {
     "name": "stderr",
     "output_type": "stream",
     "text": [
      "Processing time:   4%|██████▋                                                                                                                                                                          | 3/79 [00:03<01:36,  1.26s/it]"
     ]
    },
    {
     "name": "stdout",
     "output_type": "stream",
     "text": [
      "cid: 0 t: 20.0 ncells: 25\n",
      "cid: 1 t: 20.0 ncells: 25\n",
      "cid: 2 t: 20.0 ncells: 25\n",
      "cid: 3 t: 20.0 ncells: 25\n",
      "cid: 4 t: 20.0 ncells: 25\n",
      "cid: 5 t: 20.0 ncells: 25\n",
      "cid: 6 t: 20.0 ncells: 25\n",
      "cid: 7 t: 20.0 ncells: 25\n",
      "cid: 8 t: 20.0 ncells: 25\n",
      "cid: 9 t: 20.0 ncells: 25\n",
      "cid: 10 t: 20.0 ncells: 25\n",
      "cid: 11 t: 20.0 ncells: 25\n",
      "cid: 12 t: 20.0 ncells: 25\n",
      "cid: 13 t: 20.0 ncells: 25\n",
      "cid: 14 t: 20.0 ncells: 25\n",
      "cid: 15 t: 20.0 ncells: 25\n",
      "cid: 16 t: 20.0 ncells: 25\n",
      "cid: 17 t: 20.0 ncells: 25\n",
      "cid: 18 t: 20.0 ncells: 25\n",
      "cid: 19 t: 20.0 ncells: 25\n",
      "cid: 20 t: 20.0 ncells: 25\n",
      "cid: 21 t: 20.0 ncells: 25\n",
      "cid: 22 t: 20.0 ncells: 25\n",
      "cid: 23 t: 20.0 ncells: 25\n",
      "cid: 24 t: 20.0 ncells: 25\n"
     ]
    },
    {
     "name": "stderr",
     "output_type": "stream",
     "text": [
      "Processing time:   5%|████████▉                                                                                                                                                                        | 4/79 [00:05<01:36,  1.28s/it]"
     ]
    },
    {
     "name": "stdout",
     "output_type": "stream",
     "text": [
      "cid: 0 t: 30.0 ncells: 25\n",
      "cid: 1 t: 30.0 ncells: 25\n",
      "cid: 2 t: 30.0 ncells: 25\n",
      "cid: 3 t: 30.0 ncells: 25\n",
      "cid: 4 t: 30.0 ncells: 25\n",
      "cid: 5 t: 30.0 ncells: 25\n",
      "cid: 6 t: 30.0 ncells: 25\n",
      "cid: 7 t: 30.0 ncells: 25\n",
      "cid: 8 t: 30.0 ncells: 25\n",
      "cid: 9 t: 30.0 ncells: 25\n",
      "cid: 10 t: 30.0 ncells: 25\n",
      "cid: 11 t: 30.0 ncells: 25\n",
      "cid: 12 t: 30.0 ncells: 25\n",
      "cid: 13 t: 30.0 ncells: 25\n",
      "cid: 14 t: 30.0 ncells: 25\n",
      "cid: 15 t: 30.0 ncells: 25\n",
      "cid: 16 t: 30.0 ncells: 25\n",
      "cid: 17 t: 30.0 ncells: 25\n",
      "cid: 18 t: 30.0 ncells: 25\n",
      "cid: 19 t: 30.0 ncells: 25\n",
      "cid: 20 t: 30.0 ncells: 25\n",
      "cid: 21 t: 30.0 ncells: 25\n",
      "cid: 22 t: 30.0 ncells: 25\n",
      "cid: 23 t: 30.0 ncells: 25\n",
      "cid: 24 t: 30.0 ncells: 25\n"
     ]
    },
    {
     "name": "stderr",
     "output_type": "stream",
     "text": [
      "Processing time:   6%|███████████▏                                                                                                                                                                     | 5/79 [00:06<01:35,  1.29s/it]"
     ]
    },
    {
     "name": "stdout",
     "output_type": "stream",
     "text": [
      "cid: 0 t: 40.0 ncells: 25\n",
      "cid: 1 t: 40.0 ncells: 25\n",
      "cid: 2 t: 40.0 ncells: 25\n",
      "cid: 3 t: 40.0 ncells: 25\n",
      "cid: 4 t: 40.0 ncells: 25\n",
      "cid: 5 t: 40.0 ncells: 25\n",
      "cid: 6 t: 40.0 ncells: 25\n",
      "cid: 7 t: 40.0 ncells: 25\n",
      "cid: 8 t: 40.0 ncells: 25\n",
      "cid: 9 t: 40.0 ncells: 25\n",
      "cid: 10 t: 40.0 ncells: 25\n",
      "cid: 11 t: 40.0 ncells: 25\n",
      "cid: 12 t: 40.0 ncells: 25\n",
      "cid: 13 t: 40.0 ncells: 25\n",
      "cid: 14 t: 40.0 ncells: 25\n",
      "cid: 15 t: 40.0 ncells: 25\n",
      "cid: 16 t: 40.0 ncells: 25\n",
      "cid: 17 t: 40.0 ncells: 25\n",
      "cid: 18 t: 40.0 ncells: 25\n",
      "cid: 19 t: 40.0 ncells: 25\n",
      "cid: 20 t: 40.0 ncells: 25\n",
      "cid: 21 t: 40.0 ncells: 25\n",
      "cid: 22 t: 40.0 ncells: 25\n",
      "cid: 23 t: 40.0 ncells: 25\n",
      "cid: 24 t: 40.0 ncells: 25\n"
     ]
    },
    {
     "name": "stderr",
     "output_type": "stream",
     "text": [
      "Processing time:   8%|█████████████▍                                                                                                                                                                   | 6/79 [00:07<01:34,  1.30s/it]"
     ]
    },
    {
     "name": "stdout",
     "output_type": "stream",
     "text": [
      "cid: 0 t: 50.0 ncells: 25\n",
      "cid: 1 t: 50.0 ncells: 25\n",
      "cid: 2 t: 50.0 ncells: 25\n",
      "cid: 3 t: 50.0 ncells: 25\n",
      "cid: 4 t: 50.0 ncells: 25\n",
      "cid: 5 t: 50.0 ncells: 25\n",
      "cid: 6 t: 50.0 ncells: 25\n",
      "cid: 7 t: 50.0 ncells: 25\n",
      "cid: 8 t: 50.0 ncells: 25\n",
      "cid: 9 t: 50.0 ncells: 25\n",
      "cid: 10 t: 50.0 ncells: 25\n",
      "cid: 11 t: 50.0 ncells: 25\n",
      "cid: 12 t: 50.0 ncells: 25\n",
      "cid: 13 t: 50.0 ncells: 25\n",
      "cid: 14 t: 50.0 ncells: 25\n",
      "cid: 15 t: 50.0 ncells: 25\n",
      "cid: 16 t: 50.0 ncells: 25\n",
      "cid: 17 t: 50.0 ncells: 25\n",
      "cid: 18 t: 50.0 ncells: 25\n",
      "cid: 19 t: 50.0 ncells: 25\n",
      "cid: 20 t: 50.0 ncells: 25\n",
      "cid: 21 t: 50.0 ncells: 25\n",
      "cid: 22 t: 50.0 ncells: 25\n",
      "cid: 23 t: 50.0 ncells: 25\n",
      "cid: 24 t: 50.0 ncells: 25\n"
     ]
    },
    {
     "name": "stderr",
     "output_type": "stream",
     "text": [
      "Processing time:   9%|███████████████▋                                                                                                                                                                 | 7/79 [00:08<01:33,  1.30s/it]"
     ]
    },
    {
     "name": "stdout",
     "output_type": "stream",
     "text": [
      "cid: 0 t: 60.0 ncells: 25\n",
      "cid: 1 t: 60.0 ncells: 25\n",
      "cid: 2 t: 60.0 ncells: 25\n",
      "cid: 3 t: 60.0 ncells: 25\n",
      "cid: 4 t: 60.0 ncells: 25\n",
      "cid: 5 t: 60.0 ncells: 25\n",
      "cid: 6 t: 60.0 ncells: 25\n",
      "cid: 7 t: 60.0 ncells: 25\n",
      "cid: 8 t: 60.0 ncells: 25\n",
      "cid: 9 t: 60.0 ncells: 25\n",
      "cid: 10 t: 60.0 ncells: 25\n",
      "cid: 11 t: 60.0 ncells: 25\n",
      "cid: 12 t: 60.0 ncells: 25\n",
      "cid: 13 t: 60.0 ncells: 25\n",
      "cid: 14 t: 60.0 ncells: 25\n",
      "cid: 15 t: 60.0 ncells: 25\n",
      "cid: 16 t: 60.0 ncells: 25\n",
      "cid: 17 t: 60.0 ncells: 25\n",
      "cid: 18 t: 60.0 ncells: 25\n",
      "cid: 19 t: 60.0 ncells: 25\n",
      "cid: 20 t: 60.0 ncells: 25\n",
      "cid: 21 t: 60.0 ncells: 25\n",
      "cid: 22 t: 60.0 ncells: 25\n",
      "cid: 23 t: 60.0 ncells: 25\n",
      "cid: 24 t: 60.0 ncells: 25\n"
     ]
    },
    {
     "name": "stderr",
     "output_type": "stream",
     "text": [
      "Processing time:  10%|█████████████████▉                                                                                                                                                               | 8/79 [00:10<01:32,  1.30s/it]"
     ]
    },
    {
     "name": "stdout",
     "output_type": "stream",
     "text": [
      "cid: 0 t: 70.0 ncells: 25\n",
      "cid: 1 t: 70.0 ncells: 25\n",
      "cid: 2 t: 70.0 ncells: 25\n",
      "cid: 3 t: 70.0 ncells: 25\n",
      "cid: 4 t: 70.0 ncells: 25\n",
      "cid: 5 t: 70.0 ncells: 25\n",
      "cid: 6 t: 70.0 ncells: 25\n",
      "cid: 7 t: 70.0 ncells: 25\n",
      "cid: 8 t: 70.0 ncells: 25\n",
      "cid: 9 t: 70.0 ncells: 25\n",
      "cid: 10 t: 70.0 ncells: 25\n",
      "cid: 11 t: 70.0 ncells: 25\n",
      "cid: 12 t: 70.0 ncells: 25\n",
      "cid: 13 t: 70.0 ncells: 25\n",
      "cid: 14 t: 70.0 ncells: 25\n",
      "cid: 15 t: 70.0 ncells: 25\n",
      "cid: 16 t: 70.0 ncells: 25\n",
      "cid: 17 t: 70.0 ncells: 25\n",
      "cid: 18 t: 70.0 ncells: 25\n",
      "cid: 19 t: 70.0 ncells: 25\n",
      "cid: 20 t: 70.0 ncells: 25\n",
      "cid: 21 t: 70.0 ncells: 25\n",
      "cid: 22 t: 70.0 ncells: 25\n",
      "cid: 23 t: 70.0 ncells: 25\n",
      "cid: 24 t: 70.0 ncells: 25\n"
     ]
    },
    {
     "name": "stderr",
     "output_type": "stream",
     "text": [
      "Processing time:  11%|████████████████████▏                                                                                                                                                            | 9/79 [00:11<01:31,  1.31s/it]"
     ]
    },
    {
     "name": "stdout",
     "output_type": "stream",
     "text": [
      "cid: 0 t: 80.0 ncells: 25\n",
      "cid: 1 t: 80.0 ncells: 25\n",
      "cid: 2 t: 80.0 ncells: 25\n",
      "cid: 3 t: 80.0 ncells: 25\n",
      "cid: 4 t: 80.0 ncells: 25\n",
      "cid: 5 t: 80.0 ncells: 25\n",
      "cid: 6 t: 80.0 ncells: 25\n",
      "cid: 7 t: 80.0 ncells: 25\n",
      "cid: 8 t: 80.0 ncells: 25\n",
      "cid: 9 t: 80.0 ncells: 25\n",
      "cid: 10 t: 80.0 ncells: 25\n",
      "cid: 11 t: 80.0 ncells: 25\n",
      "cid: 12 t: 80.0 ncells: 25\n",
      "cid: 13 t: 80.0 ncells: 25\n",
      "cid: 14 t: 80.0 ncells: 25\n",
      "cid: 15 t: 80.0 ncells: 25\n",
      "cid: 16 t: 80.0 ncells: 25\n",
      "cid: 17 t: 80.0 ncells: 25\n",
      "cid: 18 t: 80.0 ncells: 25\n",
      "cid: 19 t: 80.0 ncells: 25\n",
      "cid: 20 t: 80.0 ncells: 25\n",
      "cid: 21 t: 80.0 ncells: 25\n",
      "cid: 22 t: 80.0 ncells: 25\n",
      "cid: 23 t: 80.0 ncells: 25\n",
      "cid: 24 t: 80.0 ncells: 25\n"
     ]
    },
    {
     "name": "stderr",
     "output_type": "stream",
     "text": [
      "Processing time:  13%|██████████████████████▎                                                                                                                                                         | 10/79 [00:12<01:30,  1.31s/it]"
     ]
    },
    {
     "name": "stdout",
     "output_type": "stream",
     "text": [
      "cid: 0 t: 90.0 ncells: 25\n",
      "cid: 1 t: 90.0 ncells: 25\n",
      "cid: 2 t: 90.0 ncells: 25\n",
      "cid: 3 t: 90.0 ncells: 25\n",
      "cid: 4 t: 90.0 ncells: 25\n",
      "cid: 5 t: 90.0 ncells: 25\n",
      "cid: 6 t: 90.0 ncells: 25\n",
      "cid: 7 t: 90.0 ncells: 25\n",
      "cid: 8 t: 90.0 ncells: 25\n",
      "cid: 9 t: 90.0 ncells: 25\n",
      "cid: 10 t: 90.0 ncells: 25\n",
      "cid: 11 t: 90.0 ncells: 25\n",
      "cid: 12 t: 90.0 ncells: 25\n",
      "cid: 13 t: 90.0 ncells: 25\n",
      "cid: 14 t: 90.0 ncells: 25\n",
      "cid: 15 t: 90.0 ncells: 25\n",
      "cid: 16 t: 90.0 ncells: 25\n",
      "cid: 17 t: 90.0 ncells: 25\n",
      "cid: 18 t: 90.0 ncells: 25\n",
      "cid: 19 t: 90.0 ncells: 25\n",
      "cid: 20 t: 90.0 ncells: 25\n",
      "cid: 21 t: 90.0 ncells: 25\n",
      "cid: 22 t: 90.0 ncells: 25\n",
      "cid: 23 t: 90.0 ncells: 25\n",
      "cid: 24 t: 90.0 ncells: 25\n"
     ]
    },
    {
     "name": "stderr",
     "output_type": "stream",
     "text": [
      "Processing time:  14%|████████████████████████▌                                                                                                                                                       | 11/79 [00:14<01:28,  1.30s/it]"
     ]
    },
    {
     "name": "stdout",
     "output_type": "stream",
     "text": [
      "cid: 0 t: 100.0 ncells: 25\n",
      "cid: 1 t: 100.0 ncells: 25\n",
      "cid: 2 t: 100.0 ncells: 25\n",
      "cid: 3 t: 100.0 ncells: 25\n",
      "cid: 4 t: 100.0 ncells: 25\n",
      "cid: 5 t: 100.0 ncells: 25\n",
      "cid: 6 t: 100.0 ncells: 25\n",
      "cid: 7 t: 100.0 ncells: 25\n",
      "cid: 8 t: 100.0 ncells: 25\n",
      "cid: 9 t: 100.0 ncells: 25\n",
      "cid: 10 t: 100.0 ncells: 25\n",
      "cid: 11 t: 100.0 ncells: 25\n",
      "cid: 12 t: 100.0 ncells: 25\n",
      "cid: 13 t: 100.0 ncells: 25\n",
      "cid: 14 t: 100.0 ncells: 25\n",
      "cid: 15 t: 100.0 ncells: 25\n",
      "cid: 16 t: 100.0 ncells: 25\n",
      "cid: 17 t: 100.0 ncells: 25\n",
      "cid: 18 t: 100.0 ncells: 25\n",
      "cid: 19 t: 100.0 ncells: 25\n",
      "cid: 20 t: 100.0 ncells: 25\n",
      "cid: 21 t: 100.0 ncells: 25\n",
      "cid: 22 t: 100.0 ncells: 25\n",
      "cid: 23 t: 100.0 ncells: 25\n",
      "cid: 24 t: 100.0 ncells: 25\n"
     ]
    },
    {
     "name": "stderr",
     "output_type": "stream",
     "text": [
      "Processing time:  15%|██████████████████████████▋                                                                                                                                                     | 12/79 [00:15<01:26,  1.29s/it]"
     ]
    },
    {
     "name": "stdout",
     "output_type": "stream",
     "text": [
      "cid: 0 t: 110.0 ncells: 25\n",
      "cid: 1 t: 110.0 ncells: 25\n",
      "cid: 2 t: 110.0 ncells: 25\n",
      "cid: 3 t: 110.0 ncells: 25\n",
      "cid: 4 t: 110.0 ncells: 25\n",
      "cid: 5 t: 110.0 ncells: 25\n",
      "cid: 6 t: 110.0 ncells: 25\n",
      "cid: 7 t: 110.0 ncells: 25\n",
      "cid: 8 t: 110.0 ncells: 25\n",
      "cid: 9 t: 110.0 ncells: 25\n",
      "cid: 10 t: 110.0 ncells: 25\n",
      "cid: 11 t: 110.0 ncells: 25\n",
      "cid: 12 t: 110.0 ncells: 25\n",
      "cid: 13 t: 110.0 ncells: 25\n",
      "cid: 14 t: 110.0 ncells: 25\n",
      "cid: 15 t: 110.0 ncells: 25\n",
      "cid: 16 t: 110.0 ncells: 25\n",
      "cid: 17 t: 110.0 ncells: 25\n",
      "cid: 18 t: 110.0 ncells: 25\n",
      "cid: 19 t: 110.0 ncells: 25\n",
      "cid: 20 t: 110.0 ncells: 25\n",
      "cid: 21 t: 110.0 ncells: 25\n",
      "cid: 22 t: 110.0 ncells: 25\n",
      "cid: 23 t: 110.0 ncells: 25\n",
      "cid: 24 t: 110.0 ncells: 25\n"
     ]
    },
    {
     "name": "stderr",
     "output_type": "stream",
     "text": [
      "Processing time:  16%|████████████████████████████▉                                                                                                                                                   | 13/79 [00:16<01:25,  1.29s/it]"
     ]
    },
    {
     "name": "stdout",
     "output_type": "stream",
     "text": [
      "cid: 0 t: 120.0 ncells: 25\n",
      "cid: 1 t: 120.0 ncells: 25\n",
      "cid: 2 t: 120.0 ncells: 25\n",
      "cid: 3 t: 120.0 ncells: 25\n",
      "cid: 4 t: 120.0 ncells: 25\n",
      "cid: 5 t: 120.0 ncells: 25\n",
      "cid: 6 t: 120.0 ncells: 25\n",
      "cid: 7 t: 120.0 ncells: 25\n",
      "cid: 8 t: 120.0 ncells: 25\n",
      "cid: 9 t: 120.0 ncells: 25\n",
      "cid: 10 t: 120.0 ncells: 25\n",
      "cid: 11 t: 120.0 ncells: 25\n",
      "cid: 12 t: 120.0 ncells: 25\n",
      "cid: 13 t: 120.0 ncells: 25\n",
      "cid: 14 t: 120.0 ncells: 25\n",
      "cid: 15 t: 120.0 ncells: 25\n",
      "cid: 16 t: 120.0 ncells: 25\n",
      "cid: 17 t: 120.0 ncells: 25\n",
      "cid: 18 t: 120.0 ncells: 25\n",
      "cid: 19 t: 120.0 ncells: 25\n",
      "cid: 20 t: 120.0 ncells: 25\n",
      "cid: 21 t: 120.0 ncells: 25\n",
      "cid: 22 t: 120.0 ncells: 25\n",
      "cid: 23 t: 120.0 ncells: 25\n",
      "cid: 24 t: 120.0 ncells: 25\n"
     ]
    },
    {
     "name": "stderr",
     "output_type": "stream",
     "text": [
      "Processing time:  18%|███████████████████████████████▏                                                                                                                                                | 14/79 [00:18<01:23,  1.29s/it]"
     ]
    },
    {
     "name": "stdout",
     "output_type": "stream",
     "text": [
      "cid: 0 t: 130.0 ncells: 25\n",
      "cid: 1 t: 130.0 ncells: 25\n",
      "cid: 2 t: 130.0 ncells: 25\n",
      "cid: 3 t: 130.0 ncells: 25\n",
      "cid: 4 t: 130.0 ncells: 25\n",
      "cid: 5 t: 130.0 ncells: 25\n",
      "cid: 6 t: 130.0 ncells: 25\n",
      "cid: 7 t: 130.0 ncells: 25\n",
      "cid: 8 t: 130.0 ncells: 25\n",
      "cid: 9 t: 130.0 ncells: 25\n",
      "cid: 10 t: 130.0 ncells: 25\n",
      "cid: 11 t: 130.0 ncells: 25\n",
      "cid: 12 t: 130.0 ncells: 25\n",
      "cid: 13 t: 130.0 ncells: 25\n",
      "cid: 14 t: 130.0 ncells: 25\n",
      "cid: 15 t: 130.0 ncells: 25\n",
      "cid: 16 t: 130.0 ncells: 25\n",
      "cid: 17 t: 130.0 ncells: 25\n",
      "cid: 18 t: 130.0 ncells: 25\n",
      "cid: 19 t: 130.0 ncells: 25\n",
      "cid: 20 t: 130.0 ncells: 25\n",
      "cid: 21 t: 130.0 ncells: 25\n",
      "cid: 22 t: 130.0 ncells: 25\n",
      "cid: 23 t: 130.0 ncells: 25\n",
      "cid: 24 t: 130.0 ncells: 25\n"
     ]
    },
    {
     "name": "stderr",
     "output_type": "stream",
     "text": [
      "Processing time:  19%|█████████████████████████████████▍                                                                                                                                              | 15/79 [00:19<01:22,  1.29s/it]"
     ]
    },
    {
     "name": "stdout",
     "output_type": "stream",
     "text": [
      "cid: 0 t: 140.0 ncells: 25\n",
      "cid: 1 t: 140.0 ncells: 25\n",
      "cid: 2 t: 140.0 ncells: 25\n",
      "cid: 3 t: 140.0 ncells: 25\n",
      "cid: 4 t: 140.0 ncells: 25\n",
      "cid: 5 t: 140.0 ncells: 25\n",
      "cid: 6 t: 140.0 ncells: 25\n",
      "cid: 7 t: 140.0 ncells: 25\n",
      "cid: 8 t: 140.0 ncells: 25\n",
      "cid: 9 t: 140.0 ncells: 25\n",
      "cid: 10 t: 140.0 ncells: 25\n",
      "cid: 11 t: 140.0 ncells: 25\n",
      "cid: 12 t: 140.0 ncells: 25\n",
      "cid: 13 t: 140.0 ncells: 25\n",
      "cid: 14 t: 140.0 ncells: 25\n",
      "cid: 15 t: 140.0 ncells: 25\n",
      "cid: 16 t: 140.0 ncells: 25\n",
      "cid: 17 t: 140.0 ncells: 25\n",
      "cid: 18 t: 140.0 ncells: 25\n",
      "cid: 19 t: 140.0 ncells: 25\n",
      "cid: 20 t: 140.0 ncells: 25\n",
      "cid: 21 t: 140.0 ncells: 25\n",
      "cid: 22 t: 140.0 ncells: 25\n",
      "cid: 23 t: 140.0 ncells: 25\n",
      "cid: 24 t: 140.0 ncells: 25\n"
     ]
    },
    {
     "name": "stderr",
     "output_type": "stream",
     "text": [
      "Processing time:  20%|███████████████████████████████████▋                                                                                                                                            | 16/79 [00:20<01:21,  1.29s/it]"
     ]
    },
    {
     "name": "stdout",
     "output_type": "stream",
     "text": [
      "cid: 0 t: 150.0 ncells: 25\n",
      "cid: 1 t: 150.0 ncells: 25\n",
      "cid: 2 t: 150.0 ncells: 25\n",
      "cid: 3 t: 150.0 ncells: 25\n",
      "cid: 4 t: 150.0 ncells: 25\n",
      "cid: 5 t: 150.0 ncells: 25\n",
      "cid: 6 t: 150.0 ncells: 25\n",
      "cid: 7 t: 150.0 ncells: 25\n",
      "cid: 8 t: 150.0 ncells: 25\n",
      "cid: 9 t: 150.0 ncells: 25\n",
      "cid: 10 t: 150.0 ncells: 25\n",
      "cid: 11 t: 150.0 ncells: 25\n",
      "cid: 12 t: 150.0 ncells: 25\n",
      "cid: 13 t: 150.0 ncells: 25\n",
      "cid: 14 t: 150.0 ncells: 25\n",
      "cid: 15 t: 150.0 ncells: 25\n",
      "cid: 16 t: 150.0 ncells: 25\n",
      "cid: 17 t: 150.0 ncells: 25\n",
      "cid: 18 t: 150.0 ncells: 25\n",
      "cid: 19 t: 150.0 ncells: 25\n",
      "cid: 20 t: 150.0 ncells: 25\n",
      "cid: 21 t: 150.0 ncells: 25\n",
      "cid: 22 t: 150.0 ncells: 25\n",
      "cid: 23 t: 150.0 ncells: 25\n",
      "cid: 24 t: 150.0 ncells: 25\n"
     ]
    },
    {
     "name": "stderr",
     "output_type": "stream",
     "text": [
      "Processing time:  22%|█████████████████████████████████████▊                                                                                                                                          | 17/79 [00:21<01:19,  1.29s/it]"
     ]
    },
    {
     "name": "stdout",
     "output_type": "stream",
     "text": [
      "cid: 0 t: 160.0 ncells: 25\n",
      "cid: 1 t: 160.0 ncells: 25\n",
      "cid: 2 t: 160.0 ncells: 25\n",
      "cid: 3 t: 160.0 ncells: 25\n",
      "cid: 4 t: 160.0 ncells: 25\n",
      "cid: 5 t: 160.0 ncells: 25\n",
      "cid: 6 t: 160.0 ncells: 25\n",
      "cid: 7 t: 160.0 ncells: 25\n",
      "cid: 8 t: 160.0 ncells: 25\n",
      "cid: 9 t: 160.0 ncells: 25\n",
      "cid: 10 t: 160.0 ncells: 25\n",
      "cid: 11 t: 160.0 ncells: 25\n",
      "cid: 12 t: 160.0 ncells: 25\n",
      "cid: 13 t: 160.0 ncells: 25\n",
      "cid: 14 t: 160.0 ncells: 25\n",
      "cid: 15 t: 160.0 ncells: 25\n",
      "cid: 16 t: 160.0 ncells: 25\n",
      "cid: 17 t: 160.0 ncells: 25\n",
      "cid: 18 t: 160.0 ncells: 25\n",
      "cid: 19 t: 160.0 ncells: 25\n",
      "cid: 20 t: 160.0 ncells: 25\n",
      "cid: 21 t: 160.0 ncells: 25\n",
      "cid: 22 t: 160.0 ncells: 25\n",
      "cid: 23 t: 160.0 ncells: 25\n",
      "cid: 24 t: 160.0 ncells: 25\n"
     ]
    },
    {
     "name": "stderr",
     "output_type": "stream",
     "text": [
      "Processing time:  23%|████████████████████████████████████████                                                                                                                                        | 18/79 [00:23<01:18,  1.29s/it]"
     ]
    },
    {
     "name": "stdout",
     "output_type": "stream",
     "text": [
      "cid: 0 t: 170.0 ncells: 25\n",
      "cid: 1 t: 170.0 ncells: 25\n",
      "cid: 2 t: 170.0 ncells: 25\n",
      "cid: 3 t: 170.0 ncells: 25\n",
      "cid: 4 t: 170.0 ncells: 25\n",
      "cid: 5 t: 170.0 ncells: 25\n",
      "cid: 6 t: 170.0 ncells: 25\n",
      "cid: 7 t: 170.0 ncells: 25\n",
      "cid: 8 t: 170.0 ncells: 25\n",
      "cid: 9 t: 170.0 ncells: 25\n",
      "cid: 10 t: 170.0 ncells: 25\n",
      "cid: 11 t: 170.0 ncells: 25\n",
      "cid: 12 t: 170.0 ncells: 25\n",
      "cid: 13 t: 170.0 ncells: 25\n",
      "cid: 14 t: 170.0 ncells: 25\n",
      "cid: 15 t: 170.0 ncells: 25\n",
      "cid: 16 t: 170.0 ncells: 25\n",
      "cid: 17 t: 170.0 ncells: 25\n",
      "cid: 18 t: 170.0 ncells: 25\n",
      "cid: 19 t: 170.0 ncells: 25\n",
      "cid: 20 t: 170.0 ncells: 25\n",
      "cid: 21 t: 170.0 ncells: 25\n",
      "cid: 22 t: 170.0 ncells: 25\n",
      "cid: 23 t: 170.0 ncells: 25\n",
      "cid: 24 t: 170.0 ncells: 25\n"
     ]
    },
    {
     "name": "stderr",
     "output_type": "stream",
     "text": [
      "Processing time:  24%|██████████████████████████████████████████▎                                                                                                                                     | 19/79 [00:24<01:17,  1.28s/it]"
     ]
    },
    {
     "name": "stdout",
     "output_type": "stream",
     "text": [
      "cid: 0 t: 180.0 ncells: 25\n",
      "cid: 1 t: 180.0 ncells: 25\n",
      "cid: 2 t: 180.0 ncells: 25\n",
      "cid: 3 t: 180.0 ncells: 25\n",
      "cid: 4 t: 180.0 ncells: 25\n",
      "cid: 5 t: 180.0 ncells: 25\n",
      "cid: 6 t: 180.0 ncells: 25\n",
      "cid: 7 t: 180.0 ncells: 25\n",
      "cid: 8 t: 180.0 ncells: 25\n",
      "cid: 9 t: 180.0 ncells: 25\n",
      "cid: 10 t: 180.0 ncells: 25\n",
      "cid: 11 t: 180.0 ncells: 25\n",
      "cid: 12 t: 180.0 ncells: 25\n",
      "cid: 13 t: 180.0 ncells: 25\n",
      "cid: 14 t: 180.0 ncells: 25\n",
      "cid: 15 t: 180.0 ncells: 25\n",
      "cid: 16 t: 180.0 ncells: 25\n",
      "cid: 17 t: 180.0 ncells: 25\n",
      "cid: 18 t: 180.0 ncells: 25\n",
      "cid: 19 t: 180.0 ncells: 25\n",
      "cid: 20 t: 180.0 ncells: 25\n",
      "cid: 21 t: 180.0 ncells: 25\n",
      "cid: 22 t: 180.0 ncells: 25\n",
      "cid: 23 t: 180.0 ncells: 25\n",
      "cid: 24 t: 180.0 ncells: 25\n"
     ]
    },
    {
     "name": "stderr",
     "output_type": "stream",
     "text": [
      "Processing time:  25%|████████████████████████████████████████████▌                                                                                                                                   | 20/79 [00:25<01:15,  1.28s/it]"
     ]
    },
    {
     "name": "stdout",
     "output_type": "stream",
     "text": [
      "cid: 0 t: 190.0 ncells: 25\n",
      "cid: 1 t: 190.0 ncells: 25\n",
      "cid: 2 t: 190.0 ncells: 25\n",
      "cid: 3 t: 190.0 ncells: 25\n",
      "cid: 4 t: 190.0 ncells: 25\n",
      "cid: 5 t: 190.0 ncells: 25\n",
      "cid: 6 t: 190.0 ncells: 25\n",
      "cid: 7 t: 190.0 ncells: 25\n",
      "cid: 8 t: 190.0 ncells: 25\n",
      "cid: 9 t: 190.0 ncells: 25\n",
      "cid: 10 t: 190.0 ncells: 25\n",
      "cid: 11 t: 190.0 ncells: 25\n",
      "cid: 12 t: 190.0 ncells: 25\n",
      "cid: 13 t: 190.0 ncells: 25\n",
      "cid: 14 t: 190.0 ncells: 25\n",
      "cid: 15 t: 190.0 ncells: 25\n",
      "cid: 16 t: 190.0 ncells: 25\n",
      "cid: 17 t: 190.0 ncells: 25\n",
      "cid: 18 t: 190.0 ncells: 25\n",
      "cid: 19 t: 190.0 ncells: 25\n",
      "cid: 20 t: 190.0 ncells: 25\n",
      "cid: 21 t: 190.0 ncells: 25\n",
      "cid: 22 t: 190.0 ncells: 25\n",
      "cid: 23 t: 190.0 ncells: 25\n",
      "cid: 24 t: 190.0 ncells: 25\n"
     ]
    },
    {
     "name": "stderr",
     "output_type": "stream",
     "text": [
      "Processing time:  27%|██████████████████████████████████████████████▊                                                                                                                                 | 21/79 [00:27<01:14,  1.28s/it]"
     ]
    },
    {
     "name": "stdout",
     "output_type": "stream",
     "text": [
      "cid: 0 t: 200.0 ncells: 25\n",
      "cid: 1 t: 200.0 ncells: 25\n",
      "cid: 2 t: 200.0 ncells: 25\n",
      "cid: 3 t: 200.0 ncells: 25\n",
      "cid: 4 t: 200.0 ncells: 25\n",
      "cid: 5 t: 200.0 ncells: 25\n",
      "cid: 6 t: 200.0 ncells: 25\n",
      "cid: 7 t: 200.0 ncells: 25\n",
      "cid: 8 t: 200.0 ncells: 25\n",
      "cid: 9 t: 200.0 ncells: 25\n",
      "cid: 10 t: 200.0 ncells: 25\n",
      "cid: 11 t: 200.0 ncells: 25\n",
      "cid: 12 t: 200.0 ncells: 25\n",
      "cid: 13 t: 200.0 ncells: 25\n",
      "cid: 14 t: 200.0 ncells: 25\n",
      "cid: 15 t: 200.0 ncells: 25\n",
      "cid: 16 t: 200.0 ncells: 25\n",
      "cid: 17 t: 200.0 ncells: 25\n",
      "cid: 18 t: 200.0 ncells: 25\n",
      "cid: 19 t: 200.0 ncells: 25\n",
      "cid: 20 t: 200.0 ncells: 25\n",
      "cid: 21 t: 200.0 ncells: 25\n",
      "cid: 22 t: 200.0 ncells: 25\n",
      "cid: 23 t: 200.0 ncells: 25\n",
      "cid: 24 t: 200.0 ncells: 25\n"
     ]
    },
    {
     "name": "stderr",
     "output_type": "stream",
     "text": [
      "Processing time:  28%|█████████████████████████████████████████████████                                                                                                                               | 22/79 [00:28<01:13,  1.28s/it]"
     ]
    },
    {
     "name": "stdout",
     "output_type": "stream",
     "text": [
      "cid: 0 t: 210.0 ncells: 25\n",
      "cid: 1 t: 210.0 ncells: 25\n",
      "cid: 2 t: 210.0 ncells: 25\n",
      "cid: 3 t: 210.0 ncells: 25\n",
      "cid: 4 t: 210.0 ncells: 25\n",
      "cid: 5 t: 210.0 ncells: 25\n",
      "cid: 6 t: 210.0 ncells: 25\n",
      "cid: 7 t: 210.0 ncells: 25\n",
      "cid: 8 t: 210.0 ncells: 25\n",
      "cid: 9 t: 210.0 ncells: 25\n",
      "cid: 10 t: 210.0 ncells: 25\n",
      "cid: 11 t: 210.0 ncells: 25\n",
      "cid: 12 t: 210.0 ncells: 25\n",
      "cid: 13 t: 210.0 ncells: 25\n",
      "cid: 14 t: 210.0 ncells: 25\n",
      "cid: 15 t: 210.0 ncells: 25\n",
      "cid: 16 t: 210.0 ncells: 25\n",
      "cid: 17 t: 210.0 ncells: 25\n",
      "cid: 18 t: 210.0 ncells: 25\n",
      "cid: 19 t: 210.0 ncells: 25\n",
      "cid: 20 t: 210.0 ncells: 25\n",
      "cid: 21 t: 210.0 ncells: 25\n",
      "cid: 22 t: 210.0 ncells: 25\n",
      "cid: 23 t: 210.0 ncells: 25\n",
      "cid: 24 t: 210.0 ncells: 25\n"
     ]
    },
    {
     "name": "stderr",
     "output_type": "stream",
     "text": [
      "Processing time:  29%|███████████████████████████████████████████████████▏                                                                                                                            | 23/79 [00:29<01:11,  1.29s/it]"
     ]
    },
    {
     "name": "stdout",
     "output_type": "stream",
     "text": [
      "cid: 0 t: 220.0 ncells: 25\n",
      "cid: 1 t: 220.0 ncells: 25\n",
      "cid: 2 t: 220.0 ncells: 25\n",
      "cid: 3 t: 220.0 ncells: 25\n",
      "cid: 4 t: 220.0 ncells: 25\n",
      "cid: 5 t: 220.0 ncells: 25\n",
      "cid: 6 t: 220.0 ncells: 25\n",
      "cid: 7 t: 220.0 ncells: 25\n",
      "cid: 8 t: 220.0 ncells: 25\n",
      "cid: 9 t: 220.0 ncells: 25\n",
      "cid: 10 t: 220.0 ncells: 25\n",
      "cid: 11 t: 220.0 ncells: 25\n",
      "cid: 12 t: 220.0 ncells: 25\n",
      "cid: 13 t: 220.0 ncells: 25\n",
      "cid: 14 t: 220.0 ncells: 25\n",
      "cid: 15 t: 220.0 ncells: 25\n",
      "cid: 16 t: 220.0 ncells: 25\n",
      "cid: 17 t: 220.0 ncells: 25\n",
      "cid: 18 t: 220.0 ncells: 25\n",
      "cid: 19 t: 220.0 ncells: 25\n",
      "cid: 20 t: 220.0 ncells: 25\n",
      "cid: 21 t: 220.0 ncells: 25\n",
      "cid: 22 t: 220.0 ncells: 25\n",
      "cid: 23 t: 220.0 ncells: 25\n",
      "cid: 24 t: 220.0 ncells: 25\n"
     ]
    },
    {
     "name": "stderr",
     "output_type": "stream",
     "text": [
      "Processing time:  30%|█████████████████████████████████████████████████████▍                                                                                                                          | 24/79 [00:30<01:10,  1.29s/it]"
     ]
    },
    {
     "name": "stdout",
     "output_type": "stream",
     "text": [
      "cid: 0 t: 230.0 ncells: 25\n",
      "cid: 1 t: 230.0 ncells: 25\n",
      "cid: 2 t: 230.0 ncells: 25\n",
      "cid: 3 t: 230.0 ncells: 25\n",
      "cid: 4 t: 230.0 ncells: 25\n",
      "cid: 5 t: 230.0 ncells: 25\n",
      "cid: 6 t: 230.0 ncells: 25\n",
      "cid: 7 t: 230.0 ncells: 25\n",
      "cid: 8 t: 230.0 ncells: 25\n",
      "cid: 9 t: 230.0 ncells: 25\n",
      "cid: 10 t: 230.0 ncells: 25\n",
      "cid: 11 t: 230.0 ncells: 25\n",
      "cid: 12 t: 230.0 ncells: 25\n",
      "cid: 13 t: 230.0 ncells: 25\n",
      "cid: 14 t: 230.0 ncells: 25\n",
      "cid: 15 t: 230.0 ncells: 25\n",
      "cid: 16 t: 230.0 ncells: 25\n",
      "cid: 17 t: 230.0 ncells: 25\n",
      "cid: 18 t: 230.0 ncells: 25\n",
      "cid: 19 t: 230.0 ncells: 25\n",
      "cid: 20 t: 230.0 ncells: 25\n",
      "cid: 21 t: 230.0 ncells: 25\n",
      "cid: 22 t: 230.0 ncells: 25\n",
      "cid: 23 t: 230.0 ncells: 25\n",
      "cid: 24 t: 230.0 ncells: 25\n"
     ]
    },
    {
     "name": "stderr",
     "output_type": "stream",
     "text": [
      "Processing time:  32%|███████████████████████████████████████████████████████▋                                                                                                                        | 25/79 [00:32<01:09,  1.29s/it]"
     ]
    },
    {
     "name": "stdout",
     "output_type": "stream",
     "text": [
      "cid: 0 t: 240.0 ncells: 25\n",
      "cid: 1 t: 240.0 ncells: 25\n",
      "cid: 2 t: 240.0 ncells: 25\n",
      "cid: 3 t: 240.0 ncells: 25\n",
      "cid: 4 t: 240.0 ncells: 25\n",
      "cid: 5 t: 240.0 ncells: 25\n",
      "cid: 6 t: 240.0 ncells: 25\n",
      "cid: 7 t: 240.0 ncells: 25\n",
      "cid: 8 t: 240.0 ncells: 25\n",
      "cid: 9 t: 240.0 ncells: 25\n",
      "cid: 10 t: 240.0 ncells: 25\n",
      "cid: 11 t: 240.0 ncells: 25\n",
      "cid: 12 t: 240.0 ncells: 25\n",
      "cid: 13 t: 240.0 ncells: 25\n",
      "cid: 14 t: 240.0 ncells: 25\n",
      "cid: 15 t: 240.0 ncells: 25\n",
      "cid: 16 t: 240.0 ncells: 25\n",
      "cid: 17 t: 240.0 ncells: 25\n",
      "cid: 18 t: 240.0 ncells: 25\n",
      "cid: 19 t: 240.0 ncells: 25\n",
      "cid: 20 t: 240.0 ncells: 25\n",
      "cid: 21 t: 240.0 ncells: 25\n",
      "cid: 22 t: 240.0 ncells: 25\n",
      "cid: 23 t: 240.0 ncells: 25\n",
      "cid: 24 t: 240.0 ncells: 25\n"
     ]
    },
    {
     "name": "stderr",
     "output_type": "stream",
     "text": [
      "Processing time:  33%|█████████████████████████████████████████████████████████▉                                                                                                                      | 26/79 [00:33<01:08,  1.29s/it]"
     ]
    },
    {
     "name": "stdout",
     "output_type": "stream",
     "text": [
      "cid: 0 t: 250.0 ncells: 25\n",
      "cid: 1 t: 250.0 ncells: 25\n",
      "cid: 2 t: 250.0 ncells: 25\n",
      "cid: 3 t: 250.0 ncells: 25\n",
      "cid: 4 t: 250.0 ncells: 25\n",
      "cid: 5 t: 250.0 ncells: 25\n",
      "cid: 6 t: 250.0 ncells: 25\n",
      "cid: 7 t: 250.0 ncells: 25\n",
      "cid: 8 t: 250.0 ncells: 25\n",
      "cid: 9 t: 250.0 ncells: 25\n",
      "cid: 10 t: 250.0 ncells: 25\n",
      "cid: 11 t: 250.0 ncells: 25\n",
      "cid: 12 t: 250.0 ncells: 25\n",
      "cid: 13 t: 250.0 ncells: 25\n",
      "cid: 14 t: 250.0 ncells: 25\n",
      "cid: 15 t: 250.0 ncells: 25\n",
      "cid: 16 t: 250.0 ncells: 25\n",
      "cid: 17 t: 250.0 ncells: 25\n",
      "cid: 18 t: 250.0 ncells: 25\n",
      "cid: 19 t: 250.0 ncells: 25\n",
      "cid: 20 t: 250.0 ncells: 25\n",
      "cid: 21 t: 250.0 ncells: 25\n",
      "cid: 22 t: 250.0 ncells: 25\n",
      "cid: 23 t: 250.0 ncells: 25\n",
      "cid: 24 t: 250.0 ncells: 25\n"
     ]
    },
    {
     "name": "stderr",
     "output_type": "stream",
     "text": [
      "Processing time:  34%|████████████████████████████████████████████████████████████▏                                                                                                                   | 27/79 [00:34<01:07,  1.29s/it]"
     ]
    },
    {
     "name": "stdout",
     "output_type": "stream",
     "text": [
      "cid: 0 t: 260.0 ncells: 25\n",
      "cid: 1 t: 260.0 ncells: 25\n",
      "cid: 2 t: 260.0 ncells: 25\n",
      "cid: 3 t: 260.0 ncells: 25\n",
      "cid: 4 t: 260.0 ncells: 25\n",
      "cid: 5 t: 260.0 ncells: 25\n",
      "cid: 6 t: 260.0 ncells: 25\n",
      "cid: 7 t: 260.0 ncells: 25\n",
      "cid: 8 t: 260.0 ncells: 25\n",
      "cid: 9 t: 260.0 ncells: 25\n",
      "cid: 10 t: 260.0 ncells: 25\n",
      "cid: 11 t: 260.0 ncells: 25\n",
      "cid: 12 t: 260.0 ncells: 25\n",
      "cid: 13 t: 260.0 ncells: 25\n",
      "cid: 14 t: 260.0 ncells: 25\n",
      "cid: 15 t: 260.0 ncells: 25\n",
      "cid: 16 t: 260.0 ncells: 25\n",
      "cid: 17 t: 260.0 ncells: 25\n",
      "cid: 18 t: 260.0 ncells: 25\n",
      "cid: 19 t: 260.0 ncells: 25\n",
      "cid: 20 t: 260.0 ncells: 25\n",
      "cid: 21 t: 260.0 ncells: 25\n",
      "cid: 22 t: 260.0 ncells: 25\n",
      "cid: 23 t: 260.0 ncells: 25\n",
      "cid: 24 t: 260.0 ncells: 25\n"
     ]
    },
    {
     "name": "stderr",
     "output_type": "stream",
     "text": [
      "Processing time:  35%|██████████████████████████████████████████████████████████████▍                                                                                                                 | 28/79 [00:36<01:05,  1.29s/it]"
     ]
    },
    {
     "name": "stdout",
     "output_type": "stream",
     "text": [
      "cid: 0 t: 270.0 ncells: 25\n",
      "cid: 1 t: 270.0 ncells: 25\n",
      "cid: 2 t: 270.0 ncells: 25\n",
      "cid: 3 t: 270.0 ncells: 25\n",
      "cid: 4 t: 270.0 ncells: 25\n",
      "cid: 5 t: 270.0 ncells: 25\n",
      "cid: 6 t: 270.0 ncells: 25\n",
      "cid: 7 t: 270.0 ncells: 25\n",
      "cid: 8 t: 270.0 ncells: 25\n",
      "cid: 9 t: 270.0 ncells: 25\n",
      "cid: 10 t: 270.0 ncells: 25\n",
      "cid: 11 t: 270.0 ncells: 25\n",
      "cid: 12 t: 270.0 ncells: 25\n",
      "cid: 13 t: 270.0 ncells: 25\n",
      "cid: 14 t: 270.0 ncells: 25\n",
      "cid: 15 t: 270.0 ncells: 25\n",
      "cid: 16 t: 270.0 ncells: 25\n",
      "cid: 17 t: 270.0 ncells: 25\n",
      "cid: 18 t: 270.0 ncells: 25\n",
      "cid: 19 t: 270.0 ncells: 25\n",
      "cid: 20 t: 270.0 ncells: 25\n",
      "cid: 21 t: 270.0 ncells: 25\n",
      "cid: 22 t: 270.0 ncells: 25\n",
      "cid: 23 t: 270.0 ncells: 25\n",
      "cid: 24 t: 270.0 ncells: 25\n"
     ]
    },
    {
     "name": "stderr",
     "output_type": "stream",
     "text": [
      "Processing time:  37%|████████████████████████████████████████████████████████████████▌                                                                                                               | 29/79 [00:37<01:04,  1.29s/it]"
     ]
    },
    {
     "name": "stdout",
     "output_type": "stream",
     "text": [
      "cid: 0 t: 280.0 ncells: 25\n",
      "cid: 1 t: 280.0 ncells: 25\n",
      "cid: 2 t: 280.0 ncells: 25\n",
      "cid: 3 t: 280.0 ncells: 25\n",
      "cid: 4 t: 280.0 ncells: 25\n",
      "cid: 5 t: 280.0 ncells: 25\n",
      "cid: 6 t: 280.0 ncells: 25\n",
      "cid: 7 t: 280.0 ncells: 25\n",
      "cid: 8 t: 280.0 ncells: 25\n",
      "cid: 9 t: 280.0 ncells: 25\n",
      "cid: 10 t: 280.0 ncells: 25\n",
      "cid: 11 t: 280.0 ncells: 25\n",
      "cid: 12 t: 280.0 ncells: 25\n",
      "cid: 13 t: 280.0 ncells: 25\n",
      "cid: 14 t: 280.0 ncells: 25\n",
      "cid: 15 t: 280.0 ncells: 25\n",
      "cid: 16 t: 280.0 ncells: 25\n",
      "cid: 17 t: 280.0 ncells: 25\n",
      "cid: 18 t: 280.0 ncells: 25\n",
      "cid: 19 t: 280.0 ncells: 25\n",
      "cid: 20 t: 280.0 ncells: 25\n",
      "cid: 21 t: 280.0 ncells: 25\n",
      "cid: 22 t: 280.0 ncells: 25\n",
      "cid: 23 t: 280.0 ncells: 25\n",
      "cid: 24 t: 280.0 ncells: 25\n"
     ]
    },
    {
     "name": "stderr",
     "output_type": "stream",
     "text": [
      "Processing time:  38%|██████████████████████████████████████████████████████████████████▊                                                                                                             | 30/79 [00:38<01:03,  1.29s/it]"
     ]
    },
    {
     "name": "stdout",
     "output_type": "stream",
     "text": [
      "cid: 0 t: 290.0 ncells: 25\n",
      "cid: 1 t: 290.0 ncells: 25\n",
      "cid: 2 t: 290.0 ncells: 25\n",
      "cid: 3 t: 290.0 ncells: 25\n",
      "cid: 4 t: 290.0 ncells: 25\n",
      "cid: 5 t: 290.0 ncells: 25\n",
      "cid: 6 t: 290.0 ncells: 25\n",
      "cid: 7 t: 290.0 ncells: 25\n",
      "cid: 8 t: 290.0 ncells: 25\n",
      "cid: 9 t: 290.0 ncells: 25\n",
      "cid: 10 t: 290.0 ncells: 25\n",
      "cid: 11 t: 290.0 ncells: 25\n",
      "cid: 12 t: 290.0 ncells: 25\n",
      "cid: 13 t: 290.0 ncells: 25\n",
      "cid: 14 t: 290.0 ncells: 25\n",
      "cid: 15 t: 290.0 ncells: 25\n",
      "cid: 16 t: 290.0 ncells: 25\n",
      "cid: 17 t: 290.0 ncells: 25\n",
      "cid: 18 t: 290.0 ncells: 25\n",
      "cid: 19 t: 290.0 ncells: 25\n",
      "cid: 20 t: 290.0 ncells: 25\n",
      "cid: 21 t: 290.0 ncells: 25\n",
      "cid: 22 t: 290.0 ncells: 25\n",
      "cid: 23 t: 290.0 ncells: 25\n",
      "cid: 24 t: 290.0 ncells: 25\n"
     ]
    },
    {
     "name": "stderr",
     "output_type": "stream",
     "text": [
      "Processing time:  39%|█████████████████████████████████████████████████████████████████████                                                                                                           | 31/79 [00:39<01:01,  1.29s/it]"
     ]
    },
    {
     "name": "stdout",
     "output_type": "stream",
     "text": [
      "cid: 0 t: 300.0 ncells: 25\n",
      "cid: 1 t: 300.0 ncells: 25\n",
      "cid: 2 t: 300.0 ncells: 25\n",
      "cid: 3 t: 300.0 ncells: 25\n",
      "cid: 4 t: 300.0 ncells: 25\n",
      "cid: 5 t: 300.0 ncells: 25\n",
      "cid: 6 t: 300.0 ncells: 25\n",
      "cid: 7 t: 300.0 ncells: 25\n",
      "cid: 8 t: 300.0 ncells: 25\n",
      "cid: 9 t: 300.0 ncells: 25\n",
      "cid: 10 t: 300.0 ncells: 25\n",
      "cid: 11 t: 300.0 ncells: 25\n",
      "cid: 12 t: 300.0 ncells: 25\n",
      "cid: 13 t: 300.0 ncells: 25\n",
      "cid: 14 t: 300.0 ncells: 25\n",
      "cid: 15 t: 300.0 ncells: 25\n",
      "cid: 16 t: 300.0 ncells: 25\n",
      "cid: 17 t: 300.0 ncells: 25\n",
      "cid: 18 t: 300.0 ncells: 25\n",
      "cid: 19 t: 300.0 ncells: 25\n",
      "cid: 20 t: 300.0 ncells: 25\n",
      "cid: 21 t: 300.0 ncells: 25\n",
      "cid: 22 t: 300.0 ncells: 25\n",
      "cid: 23 t: 300.0 ncells: 25\n",
      "cid: 24 t: 300.0 ncells: 25\n"
     ]
    },
    {
     "name": "stderr",
     "output_type": "stream",
     "text": [
      "Processing time:  41%|███████████████████████████████████████████████████████████████████████▎                                                                                                        | 32/79 [00:41<01:00,  1.29s/it]"
     ]
    },
    {
     "name": "stdout",
     "output_type": "stream",
     "text": [
      "cid: 0 t: 310.0 ncells: 25\n",
      "cid: 1 t: 310.0 ncells: 25\n",
      "cid: 2 t: 310.0 ncells: 25\n",
      "cid: 3 t: 310.0 ncells: 25\n",
      "cid: 4 t: 310.0 ncells: 25\n",
      "cid: 5 t: 310.0 ncells: 25\n",
      "cid: 6 t: 310.0 ncells: 25\n",
      "cid: 7 t: 310.0 ncells: 25\n",
      "cid: 8 t: 310.0 ncells: 25\n",
      "cid: 9 t: 310.0 ncells: 25\n",
      "cid: 10 t: 310.0 ncells: 25\n",
      "cid: 11 t: 310.0 ncells: 25\n",
      "cid: 12 t: 310.0 ncells: 25\n",
      "cid: 13 t: 310.0 ncells: 25\n",
      "cid: 14 t: 310.0 ncells: 25\n",
      "cid: 15 t: 310.0 ncells: 25\n",
      "cid: 16 t: 310.0 ncells: 25\n",
      "cid: 17 t: 310.0 ncells: 25\n",
      "cid: 18 t: 310.0 ncells: 25\n",
      "cid: 19 t: 310.0 ncells: 25\n",
      "cid: 20 t: 310.0 ncells: 25\n",
      "cid: 21 t: 310.0 ncells: 25\n",
      "cid: 22 t: 310.0 ncells: 25\n",
      "cid: 23 t: 310.0 ncells: 25\n",
      "cid: 24 t: 310.0 ncells: 25\n"
     ]
    },
    {
     "name": "stderr",
     "output_type": "stream",
     "text": [
      "Processing time:  42%|█████████████████████████████████████████████████████████████████████████▌                                                                                                      | 33/79 [00:42<00:58,  1.28s/it]"
     ]
    },
    {
     "name": "stdout",
     "output_type": "stream",
     "text": [
      "cid: 0 t: 320.0 ncells: 25\n",
      "cid: 1 t: 320.0 ncells: 25\n",
      "cid: 2 t: 320.0 ncells: 25\n",
      "cid: 3 t: 320.0 ncells: 25\n",
      "cid: 4 t: 320.0 ncells: 25\n",
      "cid: 5 t: 320.0 ncells: 25\n",
      "cid: 6 t: 320.0 ncells: 25\n",
      "cid: 7 t: 320.0 ncells: 25\n",
      "cid: 8 t: 320.0 ncells: 25\n",
      "cid: 9 t: 320.0 ncells: 25\n",
      "cid: 10 t: 320.0 ncells: 25\n",
      "cid: 11 t: 320.0 ncells: 25\n",
      "cid: 12 t: 320.0 ncells: 25\n",
      "cid: 13 t: 320.0 ncells: 25\n",
      "cid: 14 t: 320.0 ncells: 25\n",
      "cid: 15 t: 320.0 ncells: 25\n",
      "cid: 16 t: 320.0 ncells: 25\n",
      "cid: 17 t: 320.0 ncells: 25\n",
      "cid: 18 t: 320.0 ncells: 25\n",
      "cid: 19 t: 320.0 ncells: 25\n",
      "cid: 20 t: 320.0 ncells: 25\n",
      "cid: 21 t: 320.0 ncells: 25\n",
      "cid: 22 t: 320.0 ncells: 25\n",
      "cid: 23 t: 320.0 ncells: 25\n",
      "cid: 24 t: 320.0 ncells: 25\n"
     ]
    },
    {
     "name": "stderr",
     "output_type": "stream",
     "text": [
      "Processing time:  43%|███████████████████████████████████████████████████████████████████████████▋                                                                                                    | 34/79 [00:43<00:57,  1.28s/it]"
     ]
    },
    {
     "name": "stdout",
     "output_type": "stream",
     "text": [
      "cid: 0 t: 330.0 ncells: 25\n",
      "cid: 1 t: 330.0 ncells: 25\n",
      "cid: 2 t: 330.0 ncells: 25\n",
      "cid: 3 t: 330.0 ncells: 25\n",
      "cid: 4 t: 330.0 ncells: 25\n",
      "cid: 5 t: 330.0 ncells: 25\n",
      "cid: 6 t: 330.0 ncells: 25\n",
      "cid: 7 t: 330.0 ncells: 25\n",
      "cid: 8 t: 330.0 ncells: 25\n",
      "cid: 9 t: 330.0 ncells: 25\n",
      "cid: 10 t: 330.0 ncells: 25\n",
      "cid: 11 t: 330.0 ncells: 25\n",
      "cid: 12 t: 330.0 ncells: 25\n",
      "cid: 13 t: 330.0 ncells: 25\n",
      "cid: 14 t: 330.0 ncells: 25\n",
      "cid: 15 t: 330.0 ncells: 25\n",
      "cid: 16 t: 330.0 ncells: 25\n",
      "cid: 17 t: 330.0 ncells: 25\n",
      "cid: 18 t: 330.0 ncells: 25\n",
      "cid: 19 t: 330.0 ncells: 25\n",
      "cid: 20 t: 330.0 ncells: 25\n",
      "cid: 21 t: 330.0 ncells: 25\n",
      "cid: 22 t: 330.0 ncells: 25\n",
      "cid: 23 t: 330.0 ncells: 25\n",
      "cid: 24 t: 330.0 ncells: 25\n"
     ]
    },
    {
     "name": "stderr",
     "output_type": "stream",
     "text": [
      "Processing time:  44%|█████████████████████████████████████████████████████████████████████████████▉                                                                                                  | 35/79 [00:44<00:56,  1.28s/it]"
     ]
    },
    {
     "name": "stdout",
     "output_type": "stream",
     "text": [
      "cid: 0 t: 340.0 ncells: 25\n",
      "cid: 1 t: 340.0 ncells: 25\n",
      "cid: 2 t: 340.0 ncells: 25\n",
      "cid: 3 t: 340.0 ncells: 25\n",
      "cid: 4 t: 340.0 ncells: 25\n",
      "cid: 5 t: 340.0 ncells: 25\n",
      "cid: 6 t: 340.0 ncells: 25\n",
      "cid: 7 t: 340.0 ncells: 25\n",
      "cid: 8 t: 340.0 ncells: 25\n",
      "cid: 9 t: 340.0 ncells: 25\n",
      "cid: 10 t: 340.0 ncells: 25\n",
      "cid: 11 t: 340.0 ncells: 25\n",
      "cid: 12 t: 340.0 ncells: 25\n",
      "cid: 13 t: 340.0 ncells: 25\n",
      "cid: 14 t: 340.0 ncells: 25\n",
      "cid: 15 t: 340.0 ncells: 25\n",
      "cid: 16 t: 340.0 ncells: 25\n",
      "cid: 17 t: 340.0 ncells: 25\n",
      "cid: 18 t: 340.0 ncells: 25\n",
      "cid: 19 t: 340.0 ncells: 25\n",
      "cid: 20 t: 340.0 ncells: 25\n",
      "cid: 21 t: 340.0 ncells: 25\n",
      "cid: 22 t: 340.0 ncells: 25\n",
      "cid: 23 t: 340.0 ncells: 25\n",
      "cid: 24 t: 340.0 ncells: 25\n"
     ]
    },
    {
     "name": "stderr",
     "output_type": "stream",
     "text": [
      "Processing time:  46%|████████████████████████████████████████████████████████████████████████████████▏                                                                                               | 36/79 [00:46<00:54,  1.28s/it]"
     ]
    },
    {
     "name": "stdout",
     "output_type": "stream",
     "text": [
      "cid: 0 t: 350.0 ncells: 25\n",
      "cid: 1 t: 350.0 ncells: 25\n",
      "cid: 2 t: 350.0 ncells: 25\n",
      "cid: 3 t: 350.0 ncells: 25\n",
      "cid: 4 t: 350.0 ncells: 25\n",
      "cid: 5 t: 350.0 ncells: 25\n",
      "cid: 6 t: 350.0 ncells: 25\n",
      "cid: 7 t: 350.0 ncells: 25\n",
      "cid: 8 t: 350.0 ncells: 25\n",
      "cid: 9 t: 350.0 ncells: 25\n",
      "cid: 10 t: 350.0 ncells: 25\n",
      "cid: 11 t: 350.0 ncells: 25\n",
      "cid: 12 t: 350.0 ncells: 25\n",
      "cid: 13 t: 350.0 ncells: 25\n",
      "cid: 14 t: 350.0 ncells: 25\n",
      "cid: 15 t: 350.0 ncells: 25\n",
      "cid: 16 t: 350.0 ncells: 25\n",
      "cid: 17 t: 350.0 ncells: 25\n",
      "cid: 18 t: 350.0 ncells: 25\n",
      "cid: 19 t: 350.0 ncells: 25\n",
      "cid: 20 t: 350.0 ncells: 25\n",
      "cid: 21 t: 350.0 ncells: 25\n",
      "cid: 22 t: 350.0 ncells: 25\n",
      "cid: 23 t: 350.0 ncells: 25\n",
      "cid: 24 t: 350.0 ncells: 25\n"
     ]
    },
    {
     "name": "stderr",
     "output_type": "stream",
     "text": [
      "Processing time:  47%|██████████████████████████████████████████████████████████████████████████████████▍                                                                                             | 37/79 [00:47<00:53,  1.28s/it]"
     ]
    },
    {
     "name": "stdout",
     "output_type": "stream",
     "text": [
      "cid: 0 t: 360.0 ncells: 25\n",
      "cid: 1 t: 360.0 ncells: 25\n",
      "cid: 2 t: 360.0 ncells: 25\n",
      "cid: 3 t: 360.0 ncells: 25\n",
      "cid: 4 t: 360.0 ncells: 25\n",
      "cid: 5 t: 360.0 ncells: 25\n",
      "cid: 6 t: 360.0 ncells: 25\n",
      "cid: 7 t: 360.0 ncells: 25\n",
      "cid: 8 t: 360.0 ncells: 25\n",
      "cid: 9 t: 360.0 ncells: 25\n",
      "cid: 10 t: 360.0 ncells: 25\n",
      "cid: 11 t: 360.0 ncells: 25\n",
      "cid: 12 t: 360.0 ncells: 25\n",
      "cid: 13 t: 360.0 ncells: 25\n",
      "cid: 14 t: 360.0 ncells: 25\n",
      "cid: 15 t: 360.0 ncells: 25\n",
      "cid: 16 t: 360.0 ncells: 25\n",
      "cid: 17 t: 360.0 ncells: 25\n",
      "cid: 18 t: 360.0 ncells: 25\n",
      "cid: 19 t: 360.0 ncells: 25\n",
      "cid: 20 t: 360.0 ncells: 25\n",
      "cid: 21 t: 360.0 ncells: 25\n",
      "cid: 22 t: 360.0 ncells: 25\n",
      "cid: 23 t: 360.0 ncells: 25\n",
      "cid: 24 t: 360.0 ncells: 25\n"
     ]
    },
    {
     "name": "stderr",
     "output_type": "stream",
     "text": [
      "Processing time:  48%|████████████████████████████████████████████████████████████████████████████████████▋                                                                                           | 38/79 [00:48<00:52,  1.28s/it]"
     ]
    },
    {
     "name": "stdout",
     "output_type": "stream",
     "text": [
      "cid: 0 t: 370.0 ncells: 25\n",
      "cid: 1 t: 370.0 ncells: 25\n",
      "cid: 2 t: 370.0 ncells: 25\n",
      "cid: 3 t: 370.0 ncells: 25\n",
      "cid: 4 t: 370.0 ncells: 25\n",
      "cid: 5 t: 370.0 ncells: 25\n",
      "cid: 6 t: 370.0 ncells: 25\n",
      "cid: 7 t: 370.0 ncells: 25\n",
      "cid: 8 t: 370.0 ncells: 25\n",
      "cid: 9 t: 370.0 ncells: 25\n",
      "cid: 10 t: 370.0 ncells: 25\n",
      "cid: 11 t: 370.0 ncells: 25\n",
      "cid: 12 t: 370.0 ncells: 25\n",
      "cid: 13 t: 370.0 ncells: 25\n",
      "cid: 14 t: 370.0 ncells: 25\n",
      "cid: 15 t: 370.0 ncells: 25\n",
      "cid: 16 t: 370.0 ncells: 25\n",
      "cid: 17 t: 370.0 ncells: 25\n",
      "cid: 18 t: 370.0 ncells: 25\n",
      "cid: 19 t: 370.0 ncells: 25\n",
      "cid: 20 t: 370.0 ncells: 25\n",
      "cid: 21 t: 370.0 ncells: 25\n",
      "cid: 22 t: 370.0 ncells: 25\n",
      "cid: 23 t: 370.0 ncells: 25\n",
      "cid: 24 t: 370.0 ncells: 25\n"
     ]
    },
    {
     "name": "stderr",
     "output_type": "stream",
     "text": [
      "Processing time:  49%|██████████████████████████████████████████████████████████████████████████████████████▉                                                                                         | 39/79 [00:50<00:51,  1.28s/it]"
     ]
    },
    {
     "name": "stdout",
     "output_type": "stream",
     "text": [
      "cid: 0 t: 380.0 ncells: 25\n",
      "cid: 1 t: 380.0 ncells: 25\n",
      "cid: 2 t: 380.0 ncells: 25\n",
      "cid: 3 t: 380.0 ncells: 25\n",
      "cid: 4 t: 380.0 ncells: 25\n",
      "cid: 5 t: 380.0 ncells: 25\n",
      "cid: 6 t: 380.0 ncells: 25\n",
      "cid: 7 t: 380.0 ncells: 25\n",
      "cid: 8 t: 380.0 ncells: 25\n",
      "cid: 9 t: 380.0 ncells: 25\n",
      "cid: 10 t: 380.0 ncells: 25\n",
      "cid: 11 t: 380.0 ncells: 25\n",
      "cid: 12 t: 380.0 ncells: 25\n",
      "cid: 13 t: 380.0 ncells: 25\n",
      "cid: 14 t: 380.0 ncells: 25\n",
      "cid: 15 t: 380.0 ncells: 25\n",
      "cid: 16 t: 380.0 ncells: 25\n",
      "cid: 17 t: 380.0 ncells: 25\n",
      "cid: 18 t: 380.0 ncells: 25\n",
      "cid: 19 t: 380.0 ncells: 25\n",
      "cid: 20 t: 380.0 ncells: 25\n",
      "cid: 21 t: 380.0 ncells: 25\n",
      "cid: 22 t: 380.0 ncells: 25\n",
      "cid: 23 t: 380.0 ncells: 25\n",
      "cid: 24 t: 380.0 ncells: 25\n"
     ]
    },
    {
     "name": "stderr",
     "output_type": "stream",
     "text": [
      "Processing time:  51%|█████████████████████████████████████████████████████████████████████████████████████████                                                                                       | 40/79 [00:51<00:49,  1.28s/it]"
     ]
    },
    {
     "name": "stdout",
     "output_type": "stream",
     "text": [
      "cid: 0 t: 390.0 ncells: 25\n",
      "cid: 1 t: 390.0 ncells: 25\n",
      "cid: 2 t: 390.0 ncells: 25\n",
      "cid: 3 t: 390.0 ncells: 25\n",
      "cid: 4 t: 390.0 ncells: 25\n",
      "cid: 5 t: 390.0 ncells: 25\n",
      "cid: 6 t: 390.0 ncells: 25\n",
      "cid: 7 t: 390.0 ncells: 25\n",
      "cid: 8 t: 390.0 ncells: 25\n",
      "cid: 9 t: 390.0 ncells: 25\n",
      "cid: 10 t: 390.0 ncells: 25\n",
      "cid: 11 t: 390.0 ncells: 25\n",
      "cid: 12 t: 390.0 ncells: 25\n",
      "cid: 13 t: 390.0 ncells: 25\n",
      "cid: 14 t: 390.0 ncells: 25\n",
      "cid: 15 t: 390.0 ncells: 25\n",
      "cid: 16 t: 390.0 ncells: 25\n",
      "cid: 17 t: 390.0 ncells: 25\n",
      "cid: 18 t: 390.0 ncells: 25\n",
      "cid: 19 t: 390.0 ncells: 25\n",
      "cid: 20 t: 390.0 ncells: 25\n",
      "cid: 21 t: 390.0 ncells: 25\n",
      "cid: 22 t: 390.0 ncells: 25\n",
      "cid: 23 t: 390.0 ncells: 25\n",
      "cid: 24 t: 390.0 ncells: 25\n"
     ]
    },
    {
     "name": "stderr",
     "output_type": "stream",
     "text": [
      "Processing time:  52%|███████████████████████████████████████████████████████████████████████████████████████████▎                                                                                    | 41/79 [00:52<00:48,  1.28s/it]"
     ]
    },
    {
     "name": "stdout",
     "output_type": "stream",
     "text": [
      "cid: 0 t: 400.0 ncells: 25\n",
      "cid: 1 t: 400.0 ncells: 25\n",
      "cid: 2 t: 400.0 ncells: 25\n",
      "cid: 3 t: 400.0 ncells: 25\n",
      "cid: 4 t: 400.0 ncells: 25\n",
      "cid: 5 t: 400.0 ncells: 25\n",
      "cid: 6 t: 400.0 ncells: 25\n",
      "cid: 7 t: 400.0 ncells: 25\n",
      "cid: 8 t: 400.0 ncells: 25\n",
      "cid: 9 t: 400.0 ncells: 25\n",
      "cid: 10 t: 400.0 ncells: 25\n",
      "cid: 11 t: 400.0 ncells: 25\n",
      "cid: 12 t: 400.0 ncells: 25\n",
      "cid: 13 t: 400.0 ncells: 25\n",
      "cid: 14 t: 400.0 ncells: 25\n",
      "cid: 15 t: 400.0 ncells: 25\n",
      "cid: 16 t: 400.0 ncells: 25\n",
      "cid: 17 t: 400.0 ncells: 25\n",
      "cid: 18 t: 400.0 ncells: 25\n",
      "cid: 19 t: 400.0 ncells: 25\n",
      "cid: 20 t: 400.0 ncells: 25\n",
      "cid: 21 t: 400.0 ncells: 25\n",
      "cid: 22 t: 400.0 ncells: 25\n",
      "cid: 23 t: 400.0 ncells: 25\n",
      "cid: 24 t: 400.0 ncells: 25\n"
     ]
    },
    {
     "name": "stderr",
     "output_type": "stream",
     "text": [
      "Processing time:  53%|█████████████████████████████████████████████████████████████████████████████████████████████▌                                                                                  | 42/79 [00:53<00:47,  1.28s/it]"
     ]
    },
    {
     "name": "stdout",
     "output_type": "stream",
     "text": [
      "cid: 0 t: 410.0 ncells: 25\n",
      "cid: 1 t: 410.0 ncells: 25\n",
      "cid: 2 t: 410.0 ncells: 25\n",
      "cid: 3 t: 410.0 ncells: 25\n",
      "cid: 4 t: 410.0 ncells: 25\n",
      "cid: 5 t: 410.0 ncells: 25\n",
      "cid: 6 t: 410.0 ncells: 25\n",
      "cid: 7 t: 410.0 ncells: 25\n",
      "cid: 8 t: 410.0 ncells: 25\n",
      "cid: 9 t: 410.0 ncells: 25\n",
      "cid: 10 t: 410.0 ncells: 25\n",
      "cid: 11 t: 410.0 ncells: 25\n",
      "cid: 12 t: 410.0 ncells: 25\n",
      "cid: 13 t: 410.0 ncells: 25\n",
      "cid: 14 t: 410.0 ncells: 25\n",
      "cid: 15 t: 410.0 ncells: 25\n",
      "cid: 16 t: 410.0 ncells: 25\n",
      "cid: 17 t: 410.0 ncells: 25\n",
      "cid: 18 t: 410.0 ncells: 25\n",
      "cid: 19 t: 410.0 ncells: 25\n",
      "cid: 20 t: 410.0 ncells: 25\n",
      "cid: 21 t: 410.0 ncells: 25\n",
      "cid: 22 t: 410.0 ncells: 25\n",
      "cid: 23 t: 410.0 ncells: 25\n",
      "cid: 24 t: 410.0 ncells: 25\n"
     ]
    },
    {
     "name": "stderr",
     "output_type": "stream",
     "text": [
      "Processing time:  54%|███████████████████████████████████████████████████████████████████████████████████████████████▊                                                                                | 43/79 [00:55<00:45,  1.27s/it]"
     ]
    },
    {
     "name": "stdout",
     "output_type": "stream",
     "text": [
      "cid: 0 t: 420.0 ncells: 25\n",
      "cid: 1 t: 420.0 ncells: 25\n",
      "cid: 2 t: 420.0 ncells: 25\n",
      "cid: 3 t: 420.0 ncells: 25\n",
      "cid: 4 t: 420.0 ncells: 25\n",
      "cid: 5 t: 420.0 ncells: 25\n",
      "cid: 6 t: 420.0 ncells: 25\n",
      "cid: 7 t: 420.0 ncells: 25\n",
      "cid: 8 t: 420.0 ncells: 25\n",
      "cid: 9 t: 420.0 ncells: 25\n",
      "cid: 10 t: 420.0 ncells: 25\n",
      "cid: 11 t: 420.0 ncells: 25\n",
      "cid: 12 t: 420.0 ncells: 25\n",
      "cid: 13 t: 420.0 ncells: 25\n",
      "cid: 14 t: 420.0 ncells: 25\n",
      "cid: 15 t: 420.0 ncells: 25\n",
      "cid: 16 t: 420.0 ncells: 25\n",
      "cid: 17 t: 420.0 ncells: 25\n",
      "cid: 18 t: 420.0 ncells: 25\n",
      "cid: 19 t: 420.0 ncells: 25\n",
      "cid: 20 t: 420.0 ncells: 25\n",
      "cid: 21 t: 420.0 ncells: 25\n",
      "cid: 22 t: 420.0 ncells: 25\n",
      "cid: 23 t: 420.0 ncells: 25\n",
      "cid: 24 t: 420.0 ncells: 25\n"
     ]
    },
    {
     "name": "stderr",
     "output_type": "stream",
     "text": [
      "Processing time:  56%|██████████████████████████████████████████████████████████████████████████████████████████████████                                                                              | 44/79 [00:56<00:44,  1.28s/it]"
     ]
    },
    {
     "name": "stdout",
     "output_type": "stream",
     "text": [
      "cid: 0 t: 430.0 ncells: 25\n",
      "cid: 1 t: 430.0 ncells: 25\n",
      "cid: 2 t: 430.0 ncells: 25\n",
      "cid: 3 t: 430.0 ncells: 25\n",
      "cid: 4 t: 430.0 ncells: 25\n",
      "cid: 5 t: 430.0 ncells: 25\n",
      "cid: 6 t: 430.0 ncells: 25\n",
      "cid: 7 t: 430.0 ncells: 25\n",
      "cid: 8 t: 430.0 ncells: 25\n",
      "cid: 9 t: 430.0 ncells: 25\n",
      "cid: 10 t: 430.0 ncells: 25\n",
      "cid: 11 t: 430.0 ncells: 25\n",
      "cid: 12 t: 430.0 ncells: 25\n",
      "cid: 13 t: 430.0 ncells: 25\n",
      "cid: 14 t: 430.0 ncells: 25\n",
      "cid: 15 t: 430.0 ncells: 25\n",
      "cid: 16 t: 430.0 ncells: 25\n",
      "cid: 17 t: 430.0 ncells: 25\n",
      "cid: 18 t: 430.0 ncells: 25\n",
      "cid: 19 t: 430.0 ncells: 25\n",
      "cid: 20 t: 430.0 ncells: 25\n",
      "cid: 21 t: 430.0 ncells: 25\n",
      "cid: 22 t: 430.0 ncells: 25\n",
      "cid: 23 t: 430.0 ncells: 25\n",
      "cid: 24 t: 430.0 ncells: 25\n"
     ]
    },
    {
     "name": "stderr",
     "output_type": "stream",
     "text": [
      "Processing time:  57%|████████████████████████████████████████████████████████████████████████████████████████████████████▎                                                                           | 45/79 [00:57<00:43,  1.29s/it]"
     ]
    },
    {
     "name": "stdout",
     "output_type": "stream",
     "text": [
      "cid: 0 t: 440.0 ncells: 25\n",
      "cid: 1 t: 440.0 ncells: 25\n",
      "cid: 2 t: 440.0 ncells: 25\n",
      "cid: 3 t: 440.0 ncells: 25\n",
      "cid: 4 t: 440.0 ncells: 25\n",
      "cid: 5 t: 440.0 ncells: 25\n",
      "cid: 6 t: 440.0 ncells: 25\n",
      "cid: 7 t: 440.0 ncells: 25\n",
      "cid: 8 t: 440.0 ncells: 25\n",
      "cid: 9 t: 440.0 ncells: 25\n",
      "cid: 10 t: 440.0 ncells: 25\n",
      "cid: 11 t: 440.0 ncells: 25\n",
      "cid: 12 t: 440.0 ncells: 25\n",
      "cid: 13 t: 440.0 ncells: 25\n",
      "cid: 14 t: 440.0 ncells: 25\n",
      "cid: 15 t: 440.0 ncells: 25\n",
      "cid: 16 t: 440.0 ncells: 25\n",
      "cid: 17 t: 440.0 ncells: 25\n",
      "cid: 18 t: 440.0 ncells: 25\n",
      "cid: 19 t: 440.0 ncells: 25\n",
      "cid: 20 t: 440.0 ncells: 25\n",
      "cid: 21 t: 440.0 ncells: 25\n",
      "cid: 22 t: 440.0 ncells: 25\n",
      "cid: 23 t: 440.0 ncells: 25\n",
      "cid: 24 t: 440.0 ncells: 25\n"
     ]
    },
    {
     "name": "stderr",
     "output_type": "stream",
     "text": [
      "Processing time:  58%|██████████████████████████████████████████████████████████████████████████████████████████████████████▍                                                                         | 46/79 [00:59<00:43,  1.31s/it]"
     ]
    },
    {
     "name": "stdout",
     "output_type": "stream",
     "text": [
      "cid: 0 t: 450.0 ncells: 25\n",
      "cid: 1 t: 450.0 ncells: 25\n",
      "cid: 2 t: 450.0 ncells: 25\n",
      "cid: 3 t: 450.0 ncells: 25\n",
      "cid: 4 t: 450.0 ncells: 25\n",
      "cid: 5 t: 450.0 ncells: 25\n",
      "cid: 6 t: 450.0 ncells: 25\n",
      "cid: 7 t: 450.0 ncells: 25\n",
      "cid: 8 t: 450.0 ncells: 25\n",
      "cid: 9 t: 450.0 ncells: 25\n",
      "cid: 10 t: 450.0 ncells: 25\n",
      "cid: 11 t: 450.0 ncells: 25\n",
      "cid: 12 t: 450.0 ncells: 25\n",
      "cid: 13 t: 450.0 ncells: 25\n",
      "cid: 14 t: 450.0 ncells: 25\n",
      "cid: 15 t: 450.0 ncells: 25\n",
      "cid: 16 t: 450.0 ncells: 25\n",
      "cid: 17 t: 450.0 ncells: 25\n",
      "cid: 18 t: 450.0 ncells: 25\n",
      "cid: 19 t: 450.0 ncells: 25\n",
      "cid: 20 t: 450.0 ncells: 25\n",
      "cid: 21 t: 450.0 ncells: 25\n",
      "cid: 22 t: 450.0 ncells: 25\n",
      "cid: 23 t: 450.0 ncells: 25\n",
      "cid: 24 t: 450.0 ncells: 25\n"
     ]
    },
    {
     "name": "stderr",
     "output_type": "stream",
     "text": [
      "Processing time:  59%|████████████████████████████████████████████████████████████████████████████████████████████████████████▋                                                                       | 47/79 [01:00<00:41,  1.31s/it]"
     ]
    },
    {
     "name": "stdout",
     "output_type": "stream",
     "text": [
      "cid: 0 t: 460.0 ncells: 25\n",
      "cid: 1 t: 460.0 ncells: 25\n",
      "cid: 2 t: 460.0 ncells: 25\n",
      "cid: 3 t: 460.0 ncells: 25\n",
      "cid: 4 t: 460.0 ncells: 25\n",
      "cid: 5 t: 460.0 ncells: 25\n",
      "cid: 6 t: 460.0 ncells: 25\n",
      "cid: 7 t: 460.0 ncells: 25\n",
      "cid: 8 t: 460.0 ncells: 25\n",
      "cid: 9 t: 460.0 ncells: 25\n",
      "cid: 10 t: 460.0 ncells: 25\n",
      "cid: 11 t: 460.0 ncells: 25\n",
      "cid: 12 t: 460.0 ncells: 25\n",
      "cid: 13 t: 460.0 ncells: 25\n",
      "cid: 14 t: 460.0 ncells: 25\n",
      "cid: 15 t: 460.0 ncells: 25\n",
      "cid: 16 t: 460.0 ncells: 25\n",
      "cid: 17 t: 460.0 ncells: 25\n",
      "cid: 18 t: 460.0 ncells: 25\n",
      "cid: 19 t: 460.0 ncells: 25\n",
      "cid: 20 t: 460.0 ncells: 25\n",
      "cid: 21 t: 460.0 ncells: 25\n",
      "cid: 22 t: 460.0 ncells: 25\n",
      "cid: 23 t: 460.0 ncells: 25\n",
      "cid: 24 t: 460.0 ncells: 25\n"
     ]
    },
    {
     "name": "stderr",
     "output_type": "stream",
     "text": [
      "Processing time:  61%|██████████████████████████████████████████████████████████████████████████████████████████████████████████▉                                                                     | 48/79 [01:01<00:40,  1.31s/it]"
     ]
    },
    {
     "name": "stdout",
     "output_type": "stream",
     "text": [
      "cid: 0 t: 470.0 ncells: 25\n",
      "cid: 1 t: 470.0 ncells: 25\n",
      "cid: 2 t: 470.0 ncells: 25\n",
      "cid: 3 t: 470.0 ncells: 25\n",
      "cid: 4 t: 470.0 ncells: 25\n",
      "cid: 5 t: 470.0 ncells: 25\n",
      "cid: 6 t: 470.0 ncells: 25\n",
      "cid: 7 t: 470.0 ncells: 25\n",
      "cid: 8 t: 470.0 ncells: 25\n",
      "cid: 9 t: 470.0 ncells: 25\n",
      "cid: 10 t: 470.0 ncells: 25\n",
      "cid: 11 t: 470.0 ncells: 25\n",
      "cid: 12 t: 470.0 ncells: 25\n",
      "cid: 13 t: 470.0 ncells: 25\n",
      "cid: 14 t: 470.0 ncells: 25\n",
      "cid: 15 t: 470.0 ncells: 25\n",
      "cid: 16 t: 470.0 ncells: 25\n",
      "cid: 17 t: 470.0 ncells: 25\n",
      "cid: 18 t: 470.0 ncells: 25\n",
      "cid: 19 t: 470.0 ncells: 25\n",
      "cid: 20 t: 470.0 ncells: 25\n",
      "cid: 21 t: 470.0 ncells: 25\n",
      "cid: 22 t: 470.0 ncells: 25\n",
      "cid: 23 t: 470.0 ncells: 25\n",
      "cid: 24 t: 470.0 ncells: 25\n"
     ]
    },
    {
     "name": "stderr",
     "output_type": "stream",
     "text": [
      "Processing time:  62%|█████████████████████████████████████████████████████████████████████████████████████████████████████████████▏                                                                  | 49/79 [01:03<00:39,  1.31s/it]"
     ]
    },
    {
     "name": "stdout",
     "output_type": "stream",
     "text": [
      "cid: 0 t: 480.0 ncells: 25\n",
      "cid: 1 t: 480.0 ncells: 25\n",
      "cid: 2 t: 480.0 ncells: 25\n",
      "cid: 3 t: 480.0 ncells: 25\n",
      "cid: 4 t: 480.0 ncells: 25\n",
      "cid: 5 t: 480.0 ncells: 25\n",
      "cid: 6 t: 480.0 ncells: 25\n",
      "cid: 7 t: 480.0 ncells: 25\n",
      "cid: 8 t: 480.0 ncells: 25\n",
      "cid: 9 t: 480.0 ncells: 25\n",
      "cid: 10 t: 480.0 ncells: 25\n",
      "cid: 11 t: 480.0 ncells: 25\n",
      "cid: 12 t: 480.0 ncells: 25\n",
      "cid: 13 t: 480.0 ncells: 25\n",
      "cid: 14 t: 480.0 ncells: 25\n",
      "cid: 15 t: 480.0 ncells: 25\n",
      "cid: 16 t: 480.0 ncells: 25\n",
      "cid: 17 t: 480.0 ncells: 25\n",
      "cid: 18 t: 480.0 ncells: 25\n",
      "cid: 19 t: 480.0 ncells: 25\n",
      "cid: 20 t: 480.0 ncells: 25\n",
      "cid: 21 t: 480.0 ncells: 25\n",
      "cid: 22 t: 480.0 ncells: 25\n",
      "cid: 23 t: 480.0 ncells: 25\n",
      "cid: 24 t: 480.0 ncells: 25\n"
     ]
    },
    {
     "name": "stderr",
     "output_type": "stream",
     "text": [
      "Processing time:  63%|███████████████████████████████████████████████████████████████████████████████████████████████████████████████▍                                                                | 50/79 [01:04<00:37,  1.30s/it]"
     ]
    },
    {
     "name": "stdout",
     "output_type": "stream",
     "text": [
      "cid: 0 t: 490.0 ncells: 25\n",
      "cid: 1 t: 490.0 ncells: 25\n",
      "cid: 2 t: 490.0 ncells: 25\n",
      "cid: 3 t: 490.0 ncells: 25\n",
      "cid: 4 t: 490.0 ncells: 25\n",
      "cid: 5 t: 490.0 ncells: 25\n",
      "cid: 6 t: 490.0 ncells: 25\n",
      "cid: 7 t: 490.0 ncells: 25\n",
      "cid: 8 t: 490.0 ncells: 25\n",
      "cid: 9 t: 490.0 ncells: 25\n",
      "cid: 10 t: 490.0 ncells: 25\n",
      "cid: 11 t: 490.0 ncells: 25\n",
      "cid: 12 t: 490.0 ncells: 25\n",
      "cid: 13 t: 490.0 ncells: 25\n",
      "cid: 14 t: 490.0 ncells: 25\n",
      "cid: 15 t: 490.0 ncells: 25\n",
      "cid: 16 t: 490.0 ncells: 25\n",
      "cid: 17 t: 490.0 ncells: 25\n",
      "cid: 18 t: 490.0 ncells: 25\n",
      "cid: 19 t: 490.0 ncells: 25\n",
      "cid: 20 t: 490.0 ncells: 25\n",
      "cid: 21 t: 490.0 ncells: 25\n",
      "cid: 22 t: 490.0 ncells: 25\n",
      "cid: 23 t: 490.0 ncells: 25\n",
      "cid: 24 t: 490.0 ncells: 25\n"
     ]
    },
    {
     "name": "stderr",
     "output_type": "stream",
     "text": [
      "Processing time:  65%|█████████████████████████████████████████████████████████████████████████████████████████████████████████████████▌                                                              | 51/79 [01:05<00:36,  1.30s/it]"
     ]
    },
    {
     "name": "stdout",
     "output_type": "stream",
     "text": [
      "cid: 0 t: 500.0 ncells: 25\n",
      "cid: 1 t: 500.0 ncells: 25\n",
      "cid: 2 t: 500.0 ncells: 25\n",
      "cid: 3 t: 500.0 ncells: 25\n",
      "cid: 4 t: 500.0 ncells: 25\n",
      "cid: 5 t: 500.0 ncells: 25\n",
      "cid: 6 t: 500.0 ncells: 25\n",
      "cid: 7 t: 500.0 ncells: 25\n",
      "cid: 8 t: 500.0 ncells: 25\n",
      "cid: 9 t: 500.0 ncells: 25\n",
      "cid: 10 t: 500.0 ncells: 25\n",
      "cid: 11 t: 500.0 ncells: 25\n",
      "cid: 12 t: 500.0 ncells: 25\n",
      "cid: 13 t: 500.0 ncells: 25\n",
      "cid: 14 t: 500.0 ncells: 25\n",
      "cid: 15 t: 500.0 ncells: 25\n",
      "cid: 16 t: 500.0 ncells: 25\n",
      "cid: 17 t: 500.0 ncells: 25\n",
      "cid: 18 t: 500.0 ncells: 25\n",
      "cid: 19 t: 500.0 ncells: 25\n",
      "cid: 20 t: 500.0 ncells: 25\n",
      "cid: 21 t: 500.0 ncells: 25\n",
      "cid: 22 t: 500.0 ncells: 25\n",
      "cid: 23 t: 500.0 ncells: 25\n",
      "cid: 24 t: 500.0 ncells: 25\n"
     ]
    },
    {
     "name": "stderr",
     "output_type": "stream",
     "text": [
      "Processing time:  66%|███████████████████████████████████████████████████████████████████████████████████████████████████████████████████▊                                                            | 52/79 [01:06<00:35,  1.31s/it]"
     ]
    },
    {
     "name": "stdout",
     "output_type": "stream",
     "text": [
      "cid: 0 t: 510.0 ncells: 25\n",
      "cid: 1 t: 510.0 ncells: 25\n",
      "cid: 2 t: 510.0 ncells: 25\n",
      "cid: 3 t: 510.0 ncells: 25\n",
      "cid: 4 t: 510.0 ncells: 25\n",
      "cid: 5 t: 510.0 ncells: 25\n",
      "cid: 6 t: 510.0 ncells: 25\n",
      "cid: 7 t: 510.0 ncells: 25\n",
      "cid: 8 t: 510.0 ncells: 25\n",
      "cid: 9 t: 510.0 ncells: 25\n",
      "cid: 10 t: 510.0 ncells: 25\n",
      "cid: 11 t: 510.0 ncells: 25\n",
      "cid: 12 t: 510.0 ncells: 25\n",
      "cid: 13 t: 510.0 ncells: 25\n",
      "cid: 14 t: 510.0 ncells: 25\n",
      "cid: 15 t: 510.0 ncells: 25\n",
      "cid: 16 t: 510.0 ncells: 25\n",
      "cid: 17 t: 510.0 ncells: 25\n",
      "cid: 18 t: 510.0 ncells: 25\n",
      "cid: 19 t: 510.0 ncells: 25\n",
      "cid: 20 t: 510.0 ncells: 25\n",
      "cid: 21 t: 510.0 ncells: 25\n",
      "cid: 22 t: 510.0 ncells: 25\n",
      "cid: 23 t: 510.0 ncells: 25\n",
      "cid: 24 t: 510.0 ncells: 25\n"
     ]
    },
    {
     "name": "stderr",
     "output_type": "stream",
     "text": [
      "Processing time:  67%|██████████████████████████████████████████████████████████████████████████████████████████████████████████████████████                                                          | 53/79 [01:08<00:33,  1.30s/it]"
     ]
    },
    {
     "name": "stdout",
     "output_type": "stream",
     "text": [
      "cid: 0 t: 520.0 ncells: 25\n",
      "cid: 1 t: 520.0 ncells: 25\n",
      "cid: 2 t: 520.0 ncells: 25\n",
      "cid: 3 t: 520.0 ncells: 25\n",
      "cid: 4 t: 520.0 ncells: 25\n",
      "cid: 5 t: 520.0 ncells: 25\n",
      "cid: 6 t: 520.0 ncells: 25\n",
      "cid: 7 t: 520.0 ncells: 25\n",
      "cid: 8 t: 520.0 ncells: 25\n",
      "cid: 9 t: 520.0 ncells: 25\n",
      "cid: 10 t: 520.0 ncells: 25\n",
      "cid: 11 t: 520.0 ncells: 25\n",
      "cid: 12 t: 520.0 ncells: 25\n",
      "cid: 13 t: 520.0 ncells: 25\n",
      "cid: 14 t: 520.0 ncells: 25\n",
      "cid: 15 t: 520.0 ncells: 25\n",
      "cid: 16 t: 520.0 ncells: 25\n",
      "cid: 17 t: 520.0 ncells: 25\n",
      "cid: 18 t: 520.0 ncells: 25\n",
      "cid: 19 t: 520.0 ncells: 25\n",
      "cid: 20 t: 520.0 ncells: 25\n",
      "cid: 21 t: 520.0 ncells: 25\n",
      "cid: 22 t: 520.0 ncells: 25\n",
      "cid: 23 t: 520.0 ncells: 25\n",
      "cid: 24 t: 520.0 ncells: 25\n"
     ]
    },
    {
     "name": "stderr",
     "output_type": "stream",
     "text": [
      "Processing time:  68%|████████████████████████████████████████████████████████████████████████████████████████████████████████████████████████▎                                                       | 54/79 [01:09<00:32,  1.31s/it]"
     ]
    },
    {
     "name": "stdout",
     "output_type": "stream",
     "text": [
      "cid: 0 t: 530.0 ncells: 25\n",
      "cid: 1 t: 530.0 ncells: 25\n",
      "cid: 2 t: 530.0 ncells: 25\n",
      "cid: 3 t: 530.0 ncells: 25\n",
      "cid: 4 t: 530.0 ncells: 25\n",
      "cid: 5 t: 530.0 ncells: 25\n",
      "cid: 6 t: 530.0 ncells: 25\n",
      "cid: 7 t: 530.0 ncells: 25\n",
      "cid: 8 t: 530.0 ncells: 25\n",
      "cid: 9 t: 530.0 ncells: 25\n",
      "cid: 10 t: 530.0 ncells: 25\n",
      "cid: 11 t: 530.0 ncells: 25\n",
      "cid: 12 t: 530.0 ncells: 25\n",
      "cid: 13 t: 530.0 ncells: 25\n",
      "cid: 14 t: 530.0 ncells: 25\n",
      "cid: 15 t: 530.0 ncells: 25\n",
      "cid: 16 t: 530.0 ncells: 25\n",
      "cid: 17 t: 530.0 ncells: 25\n",
      "cid: 18 t: 530.0 ncells: 25\n",
      "cid: 19 t: 530.0 ncells: 25\n",
      "cid: 20 t: 530.0 ncells: 25\n",
      "cid: 21 t: 530.0 ncells: 25\n",
      "cid: 22 t: 530.0 ncells: 25\n",
      "cid: 23 t: 530.0 ncells: 25\n",
      "cid: 24 t: 530.0 ncells: 25\n"
     ]
    },
    {
     "name": "stderr",
     "output_type": "stream",
     "text": [
      "Processing time:  70%|██████████████████████████████████████████████████████████████████████████████████████████████████████████████████████████▌                                                     | 55/79 [01:10<00:31,  1.31s/it]"
     ]
    },
    {
     "name": "stdout",
     "output_type": "stream",
     "text": [
      "cid: 0 t: 540.0 ncells: 25\n",
      "cid: 1 t: 540.0 ncells: 25\n",
      "cid: 2 t: 540.0 ncells: 25\n",
      "cid: 3 t: 540.0 ncells: 25\n",
      "cid: 4 t: 540.0 ncells: 25\n",
      "cid: 5 t: 540.0 ncells: 25\n",
      "cid: 6 t: 540.0 ncells: 25\n",
      "cid: 7 t: 540.0 ncells: 25\n",
      "cid: 8 t: 540.0 ncells: 25\n",
      "cid: 9 t: 540.0 ncells: 25\n",
      "cid: 10 t: 540.0 ncells: 25\n",
      "cid: 11 t: 540.0 ncells: 25\n",
      "cid: 12 t: 540.0 ncells: 25\n",
      "cid: 13 t: 540.0 ncells: 25\n",
      "cid: 14 t: 540.0 ncells: 25\n",
      "cid: 15 t: 540.0 ncells: 25\n",
      "cid: 16 t: 540.0 ncells: 25\n",
      "cid: 17 t: 540.0 ncells: 25\n",
      "cid: 18 t: 540.0 ncells: 25\n",
      "cid: 19 t: 540.0 ncells: 25\n",
      "cid: 20 t: 540.0 ncells: 25\n",
      "cid: 21 t: 540.0 ncells: 25\n",
      "cid: 22 t: 540.0 ncells: 25\n",
      "cid: 23 t: 540.0 ncells: 25\n",
      "cid: 24 t: 540.0 ncells: 25\n"
     ]
    },
    {
     "name": "stderr",
     "output_type": "stream",
     "text": [
      "Processing time:  71%|████████████████████████████████████████████████████████████████████████████████████████████████████████████████████████████▊                                                   | 56/79 [01:12<00:30,  1.32s/it]"
     ]
    },
    {
     "name": "stdout",
     "output_type": "stream",
     "text": [
      "cid: 0 t: 550.0 ncells: 25\n",
      "cid: 1 t: 550.0 ncells: 25\n",
      "cid: 2 t: 550.0 ncells: 25\n",
      "cid: 3 t: 550.0 ncells: 25\n",
      "cid: 4 t: 550.0 ncells: 25\n",
      "cid: 5 t: 550.0 ncells: 25\n",
      "cid: 6 t: 550.0 ncells: 25\n",
      "cid: 7 t: 550.0 ncells: 25\n",
      "cid: 8 t: 550.0 ncells: 25\n",
      "cid: 9 t: 550.0 ncells: 25\n",
      "cid: 10 t: 550.0 ncells: 25\n",
      "cid: 11 t: 550.0 ncells: 25\n",
      "cid: 12 t: 550.0 ncells: 25\n",
      "cid: 13 t: 550.0 ncells: 25\n",
      "cid: 14 t: 550.0 ncells: 25\n",
      "cid: 15 t: 550.0 ncells: 25\n",
      "cid: 16 t: 550.0 ncells: 25\n",
      "cid: 17 t: 550.0 ncells: 25\n",
      "cid: 18 t: 550.0 ncells: 25\n",
      "cid: 19 t: 550.0 ncells: 25\n",
      "cid: 20 t: 550.0 ncells: 25\n",
      "cid: 21 t: 550.0 ncells: 25\n",
      "cid: 22 t: 550.0 ncells: 25\n",
      "cid: 23 t: 550.0 ncells: 25\n",
      "cid: 24 t: 550.0 ncells: 25\n"
     ]
    },
    {
     "name": "stderr",
     "output_type": "stream",
     "text": [
      "Processing time:  72%|██████████████████████████████████████████████████████████████████████████████████████████████████████████████████████████████▉                                                 | 57/79 [01:13<00:28,  1.32s/it]"
     ]
    },
    {
     "name": "stdout",
     "output_type": "stream",
     "text": [
      "cid: 0 t: 560.0 ncells: 25\n",
      "cid: 1 t: 560.0 ncells: 25\n",
      "cid: 2 t: 560.0 ncells: 25\n",
      "cid: 3 t: 560.0 ncells: 25\n",
      "cid: 4 t: 560.0 ncells: 25\n",
      "cid: 5 t: 560.0 ncells: 25\n",
      "cid: 6 t: 560.0 ncells: 25\n",
      "cid: 7 t: 560.0 ncells: 25\n",
      "cid: 8 t: 560.0 ncells: 25\n",
      "cid: 9 t: 560.0 ncells: 25\n",
      "cid: 10 t: 560.0 ncells: 25\n",
      "cid: 11 t: 560.0 ncells: 25\n",
      "cid: 12 t: 560.0 ncells: 25\n",
      "cid: 13 t: 560.0 ncells: 25\n",
      "cid: 14 t: 560.0 ncells: 25\n",
      "cid: 15 t: 560.0 ncells: 25\n",
      "cid: 16 t: 560.0 ncells: 25\n",
      "cid: 17 t: 560.0 ncells: 25\n",
      "cid: 18 t: 560.0 ncells: 25\n",
      "cid: 19 t: 560.0 ncells: 25\n",
      "cid: 20 t: 560.0 ncells: 25\n",
      "cid: 21 t: 560.0 ncells: 25\n",
      "cid: 22 t: 560.0 ncells: 25\n",
      "cid: 23 t: 560.0 ncells: 25\n",
      "cid: 24 t: 560.0 ncells: 25\n"
     ]
    },
    {
     "name": "stderr",
     "output_type": "stream",
     "text": [
      "Processing time:  73%|█████████████████████████████████████████████████████████████████████████████████████████████████████████████████████████████████▏                                              | 58/79 [01:14<00:27,  1.31s/it]"
     ]
    },
    {
     "name": "stdout",
     "output_type": "stream",
     "text": [
      "cid: 0 t: 570.0 ncells: 25\n",
      "cid: 1 t: 570.0 ncells: 25\n",
      "cid: 2 t: 570.0 ncells: 25\n",
      "cid: 3 t: 570.0 ncells: 25\n",
      "cid: 4 t: 570.0 ncells: 25\n",
      "cid: 5 t: 570.0 ncells: 25\n",
      "cid: 6 t: 570.0 ncells: 25\n",
      "cid: 7 t: 570.0 ncells: 25\n",
      "cid: 8 t: 570.0 ncells: 25\n",
      "cid: 9 t: 570.0 ncells: 25\n",
      "cid: 10 t: 570.0 ncells: 25\n",
      "cid: 11 t: 570.0 ncells: 25\n",
      "cid: 12 t: 570.0 ncells: 25\n",
      "cid: 13 t: 570.0 ncells: 25\n",
      "cid: 14 t: 570.0 ncells: 25\n",
      "cid: 15 t: 570.0 ncells: 25\n",
      "cid: 16 t: 570.0 ncells: 25\n",
      "cid: 17 t: 570.0 ncells: 25\n",
      "cid: 18 t: 570.0 ncells: 25\n",
      "cid: 19 t: 570.0 ncells: 25\n",
      "cid: 20 t: 570.0 ncells: 25\n",
      "cid: 21 t: 570.0 ncells: 25\n",
      "cid: 22 t: 570.0 ncells: 25\n",
      "cid: 23 t: 570.0 ncells: 25\n",
      "cid: 24 t: 570.0 ncells: 25\n"
     ]
    },
    {
     "name": "stderr",
     "output_type": "stream",
     "text": [
      "Processing time:  75%|███████████████████████████████████████████████████████████████████████████████████████████████████████████████████████████████████▍                                            | 59/79 [01:16<00:26,  1.30s/it]"
     ]
    },
    {
     "name": "stdout",
     "output_type": "stream",
     "text": [
      "cid: 0 t: 580.0 ncells: 25\n",
      "cid: 1 t: 580.0 ncells: 25\n",
      "cid: 2 t: 580.0 ncells: 25\n",
      "cid: 3 t: 580.0 ncells: 25\n",
      "cid: 4 t: 580.0 ncells: 25\n",
      "cid: 5 t: 580.0 ncells: 25\n",
      "cid: 6 t: 580.0 ncells: 25\n",
      "cid: 7 t: 580.0 ncells: 25\n",
      "cid: 8 t: 580.0 ncells: 25\n",
      "cid: 9 t: 580.0 ncells: 25\n",
      "cid: 10 t: 580.0 ncells: 25\n",
      "cid: 11 t: 580.0 ncells: 25\n",
      "cid: 12 t: 580.0 ncells: 25\n",
      "cid: 13 t: 580.0 ncells: 25\n",
      "cid: 14 t: 580.0 ncells: 25\n",
      "cid: 15 t: 580.0 ncells: 25\n",
      "cid: 16 t: 580.0 ncells: 25\n",
      "cid: 17 t: 580.0 ncells: 25\n",
      "cid: 18 t: 580.0 ncells: 25\n",
      "cid: 19 t: 580.0 ncells: 25\n",
      "cid: 20 t: 580.0 ncells: 25\n",
      "cid: 21 t: 580.0 ncells: 25\n",
      "cid: 22 t: 580.0 ncells: 25\n",
      "cid: 23 t: 580.0 ncells: 25\n",
      "cid: 24 t: 580.0 ncells: 25\n"
     ]
    },
    {
     "name": "stderr",
     "output_type": "stream",
     "text": [
      "Processing time:  76%|█████████████████████████████████████████████████████████████████████████████████████████████████████████████████████████████████████▋                                          | 60/79 [01:17<00:24,  1.30s/it]"
     ]
    },
    {
     "name": "stdout",
     "output_type": "stream",
     "text": [
      "cid: 0 t: 590.0 ncells: 25\n",
      "cid: 1 t: 590.0 ncells: 25\n",
      "cid: 2 t: 590.0 ncells: 25\n",
      "cid: 3 t: 590.0 ncells: 25\n",
      "cid: 4 t: 590.0 ncells: 25\n",
      "cid: 5 t: 590.0 ncells: 25\n",
      "cid: 6 t: 590.0 ncells: 25\n",
      "cid: 7 t: 590.0 ncells: 25\n",
      "cid: 8 t: 590.0 ncells: 25\n",
      "cid: 9 t: 590.0 ncells: 25\n",
      "cid: 10 t: 590.0 ncells: 25\n",
      "cid: 11 t: 590.0 ncells: 25\n",
      "cid: 12 t: 590.0 ncells: 25\n",
      "cid: 13 t: 590.0 ncells: 25\n",
      "cid: 14 t: 590.0 ncells: 25\n",
      "cid: 15 t: 590.0 ncells: 25\n",
      "cid: 16 t: 590.0 ncells: 25\n",
      "cid: 17 t: 590.0 ncells: 25\n",
      "cid: 18 t: 590.0 ncells: 25\n",
      "cid: 19 t: 590.0 ncells: 25\n",
      "cid: 20 t: 590.0 ncells: 25\n",
      "cid: 21 t: 590.0 ncells: 25\n",
      "cid: 22 t: 590.0 ncells: 25\n",
      "cid: 23 t: 590.0 ncells: 25\n",
      "cid: 24 t: 590.0 ncells: 25\n"
     ]
    },
    {
     "name": "stderr",
     "output_type": "stream",
     "text": [
      "Processing time:  77%|███████████████████████████████████████████████████████████████████████████████████████████████████████████████████████████████████████▉                                        | 61/79 [01:18<00:23,  1.30s/it]"
     ]
    },
    {
     "name": "stdout",
     "output_type": "stream",
     "text": [
      "cid: 0 t: 600.0 ncells: 25\n",
      "cid: 1 t: 600.0 ncells: 25\n",
      "cid: 2 t: 600.0 ncells: 25\n",
      "cid: 3 t: 600.0 ncells: 25\n",
      "cid: 4 t: 600.0 ncells: 25\n",
      "cid: 5 t: 600.0 ncells: 25\n",
      "cid: 6 t: 600.0 ncells: 25\n",
      "cid: 7 t: 600.0 ncells: 25\n",
      "cid: 8 t: 600.0 ncells: 25\n",
      "cid: 9 t: 600.0 ncells: 25\n",
      "cid: 10 t: 600.0 ncells: 25\n",
      "cid: 11 t: 600.0 ncells: 25\n",
      "cid: 12 t: 600.0 ncells: 25\n",
      "cid: 13 t: 600.0 ncells: 25\n",
      "cid: 14 t: 600.0 ncells: 25\n",
      "cid: 15 t: 600.0 ncells: 25\n",
      "cid: 16 t: 600.0 ncells: 25\n",
      "cid: 17 t: 600.0 ncells: 25\n",
      "cid: 18 t: 600.0 ncells: 25\n",
      "cid: 19 t: 600.0 ncells: 25\n",
      "cid: 20 t: 600.0 ncells: 25\n",
      "cid: 21 t: 600.0 ncells: 25\n",
      "cid: 22 t: 600.0 ncells: 25\n",
      "cid: 23 t: 600.0 ncells: 25\n",
      "cid: 24 t: 600.0 ncells: 25\n"
     ]
    },
    {
     "name": "stderr",
     "output_type": "stream",
     "text": [
      "Processing time:  78%|██████████████████████████████████████████████████████████████████████████████████████████████████████████████████████████████████████████▏                                     | 62/79 [01:20<00:22,  1.30s/it]"
     ]
    },
    {
     "name": "stdout",
     "output_type": "stream",
     "text": [
      "cid: 0 t: 610.0 ncells: 25\n",
      "cid: 1 t: 610.0 ncells: 25\n",
      "cid: 2 t: 610.0 ncells: 25\n",
      "cid: 3 t: 610.0 ncells: 25\n",
      "cid: 4 t: 610.0 ncells: 25\n",
      "cid: 5 t: 610.0 ncells: 25\n",
      "cid: 6 t: 610.0 ncells: 25\n",
      "cid: 7 t: 610.0 ncells: 25\n",
      "cid: 8 t: 610.0 ncells: 25\n",
      "cid: 9 t: 610.0 ncells: 25\n",
      "cid: 10 t: 610.0 ncells: 25\n",
      "cid: 11 t: 610.0 ncells: 25\n",
      "cid: 12 t: 610.0 ncells: 25\n",
      "cid: 13 t: 610.0 ncells: 25\n",
      "cid: 14 t: 610.0 ncells: 25\n",
      "cid: 15 t: 610.0 ncells: 25\n",
      "cid: 16 t: 610.0 ncells: 25\n",
      "cid: 17 t: 610.0 ncells: 25\n",
      "cid: 18 t: 610.0 ncells: 25\n",
      "cid: 19 t: 610.0 ncells: 25\n",
      "cid: 20 t: 610.0 ncells: 25\n",
      "cid: 21 t: 610.0 ncells: 25\n",
      "cid: 22 t: 610.0 ncells: 25\n",
      "cid: 23 t: 610.0 ncells: 25\n",
      "cid: 24 t: 610.0 ncells: 25\n"
     ]
    },
    {
     "name": "stderr",
     "output_type": "stream",
     "text": [
      "Processing time:  80%|████████████████████████████████████████████████████████████████████████████████████████████████████████████████████████████████████████████▎                                   | 63/79 [01:21<00:20,  1.30s/it]"
     ]
    },
    {
     "name": "stdout",
     "output_type": "stream",
     "text": [
      "cid: 0 t: 620.0 ncells: 25\n",
      "cid: 1 t: 620.0 ncells: 25\n",
      "cid: 2 t: 620.0 ncells: 25\n",
      "cid: 3 t: 620.0 ncells: 25\n",
      "cid: 4 t: 620.0 ncells: 25\n",
      "cid: 5 t: 620.0 ncells: 25\n",
      "cid: 6 t: 620.0 ncells: 25\n",
      "cid: 7 t: 620.0 ncells: 25\n",
      "cid: 8 t: 620.0 ncells: 25\n",
      "cid: 9 t: 620.0 ncells: 25\n",
      "cid: 10 t: 620.0 ncells: 25\n",
      "cid: 11 t: 620.0 ncells: 25\n",
      "cid: 12 t: 620.0 ncells: 25\n",
      "cid: 13 t: 620.0 ncells: 25\n",
      "cid: 14 t: 620.0 ncells: 25\n",
      "cid: 15 t: 620.0 ncells: 25\n",
      "cid: 16 t: 620.0 ncells: 25\n",
      "cid: 17 t: 620.0 ncells: 25\n",
      "cid: 18 t: 620.0 ncells: 25\n",
      "cid: 19 t: 620.0 ncells: 25\n",
      "cid: 20 t: 620.0 ncells: 25\n",
      "cid: 21 t: 620.0 ncells: 25\n",
      "cid: 22 t: 620.0 ncells: 25\n",
      "cid: 23 t: 620.0 ncells: 25\n",
      "cid: 24 t: 620.0 ncells: 25\n"
     ]
    },
    {
     "name": "stderr",
     "output_type": "stream",
     "text": [
      "Processing time:  81%|██████████████████████████████████████████████████████████████████████████████████████████████████████████████████████████████████████████████▌                                 | 64/79 [01:22<00:19,  1.30s/it]"
     ]
    },
    {
     "name": "stdout",
     "output_type": "stream",
     "text": [
      "cid: 0 t: 630.0 ncells: 25\n",
      "cid: 1 t: 630.0 ncells: 25\n",
      "cid: 2 t: 630.0 ncells: 25\n",
      "cid: 3 t: 630.0 ncells: 25\n",
      "cid: 4 t: 630.0 ncells: 25\n",
      "cid: 5 t: 630.0 ncells: 25\n",
      "cid: 6 t: 630.0 ncells: 25\n",
      "cid: 7 t: 630.0 ncells: 25\n",
      "cid: 8 t: 630.0 ncells: 25\n",
      "cid: 9 t: 630.0 ncells: 25\n",
      "cid: 10 t: 630.0 ncells: 25\n",
      "cid: 11 t: 630.0 ncells: 25\n",
      "cid: 12 t: 630.0 ncells: 25\n",
      "cid: 13 t: 630.0 ncells: 25\n",
      "cid: 14 t: 630.0 ncells: 25\n",
      "cid: 15 t: 630.0 ncells: 25\n",
      "cid: 16 t: 630.0 ncells: 25\n",
      "cid: 17 t: 630.0 ncells: 25\n",
      "cid: 18 t: 630.0 ncells: 25\n",
      "cid: 19 t: 630.0 ncells: 25\n",
      "cid: 20 t: 630.0 ncells: 25\n",
      "cid: 21 t: 630.0 ncells: 25\n",
      "cid: 22 t: 630.0 ncells: 25\n",
      "cid: 23 t: 630.0 ncells: 25\n",
      "cid: 24 t: 630.0 ncells: 25\n"
     ]
    },
    {
     "name": "stderr",
     "output_type": "stream",
     "text": [
      "Processing time:  82%|████████████████████████████████████████████████████████████████████████████████████████████████████████████████████████████████████████████████▊                               | 65/79 [01:23<00:18,  1.30s/it]"
     ]
    },
    {
     "name": "stdout",
     "output_type": "stream",
     "text": [
      "cid: 0 t: 640.0 ncells: 25\n",
      "cid: 1 t: 640.0 ncells: 25\n",
      "cid: 2 t: 640.0 ncells: 25\n",
      "cid: 3 t: 640.0 ncells: 25\n",
      "cid: 4 t: 640.0 ncells: 25\n",
      "cid: 5 t: 640.0 ncells: 25\n",
      "cid: 6 t: 640.0 ncells: 25\n",
      "cid: 7 t: 640.0 ncells: 25\n",
      "cid: 8 t: 640.0 ncells: 25\n",
      "cid: 9 t: 640.0 ncells: 25\n",
      "cid: 10 t: 640.0 ncells: 25\n",
      "cid: 11 t: 640.0 ncells: 25\n",
      "cid: 12 t: 640.0 ncells: 25\n",
      "cid: 13 t: 640.0 ncells: 25\n",
      "cid: 14 t: 640.0 ncells: 25\n",
      "cid: 15 t: 640.0 ncells: 25\n",
      "cid: 16 t: 640.0 ncells: 25\n",
      "cid: 17 t: 640.0 ncells: 25\n",
      "cid: 18 t: 640.0 ncells: 25\n",
      "cid: 19 t: 640.0 ncells: 25\n",
      "cid: 20 t: 640.0 ncells: 25\n",
      "cid: 21 t: 640.0 ncells: 25\n",
      "cid: 22 t: 640.0 ncells: 25\n",
      "cid: 23 t: 640.0 ncells: 25\n",
      "cid: 24 t: 640.0 ncells: 25\n"
     ]
    },
    {
     "name": "stderr",
     "output_type": "stream",
     "text": [
      "Processing time:  84%|███████████████████████████████████████████████████████████████████████████████████████████████████████████████████████████████████████████████████                             | 66/79 [01:25<00:17,  1.32s/it]"
     ]
    },
    {
     "name": "stdout",
     "output_type": "stream",
     "text": [
      "cid: 0 t: 650.0 ncells: 27\n",
      "cid: 1 t: 650.0 ncells: 27\n",
      "cid: 2 t: 650.0 ncells: 27\n",
      "cid: 3 t: 650.0 ncells: 27\n",
      "cid: 4 t: 650.0 ncells: 27\n",
      "cid: 5 t: 650.0 ncells: 27\n",
      "cid: 6 t: 650.0 ncells: 27\n",
      "cid: 7 t: 650.0 ncells: 27\n",
      "cid: 8 t: 650.0 ncells: 27\n",
      "cid: 9 t: 650.0 ncells: 27\n",
      "cid: 10 t: 650.0 ncells: 27\n",
      "cid: 11 t: 650.0 ncells: 27\n",
      "cid: 12 t: 650.0 ncells: 27\n",
      "cid: 13 t: 650.0 ncells: 27\n",
      "cid: 14 t: 650.0 ncells: 27\n",
      "cid: 15 t: 650.0 ncells: 27\n",
      "cid: 16 t: 650.0 ncells: 27\n",
      "cid: 17 t: 650.0 ncells: 27\n",
      "cid: 18 t: 650.0 ncells: 27\n",
      "cid: 19 t: 650.0 ncells: 27\n",
      "cid: 20 t: 650.0 ncells: 27\n",
      "cid: 21 t: 650.0 ncells: 27\n",
      "cid: 22 t: 650.0 ncells: 27\n",
      "cid: 23 t: 650.0 ncells: 27\n",
      "cid: 24 t: 650.0 ncells: 27\n",
      "cid: 25 t: 650.0 ncells: 27\n",
      "cid: 26 t: 650.0 ncells: 27\n"
     ]
    },
    {
     "name": "stderr",
     "output_type": "stream",
     "text": [
      "Processing time:  85%|█████████████████████████████████████████████████████████████████████████████████████████████████████████████████████████████████████████████████████▎                          | 67/79 [01:26<00:16,  1.33s/it]"
     ]
    },
    {
     "name": "stdout",
     "output_type": "stream",
     "text": [
      "cid: 0 t: 660.0 ncells: 28\n",
      "cid: 1 t: 660.0 ncells: 28\n",
      "cid: 2 t: 660.0 ncells: 28\n",
      "cid: 3 t: 660.0 ncells: 28\n",
      "cid: 4 t: 660.0 ncells: 28\n",
      "cid: 5 t: 660.0 ncells: 28\n",
      "cid: 6 t: 660.0 ncells: 28\n",
      "cid: 7 t: 660.0 ncells: 28\n",
      "cid: 8 t: 660.0 ncells: 28\n",
      "cid: 9 t: 660.0 ncells: 28\n",
      "cid: 10 t: 660.0 ncells: 28\n",
      "cid: 11 t: 660.0 ncells: 28\n",
      "cid: 12 t: 660.0 ncells: 28\n",
      "cid: 13 t: 660.0 ncells: 28\n",
      "cid: 14 t: 660.0 ncells: 28\n",
      "cid: 15 t: 660.0 ncells: 28\n",
      "cid: 16 t: 660.0 ncells: 28\n",
      "cid: 17 t: 660.0 ncells: 28\n",
      "cid: 18 t: 660.0 ncells: 28\n",
      "cid: 19 t: 660.0 ncells: 28\n",
      "cid: 20 t: 660.0 ncells: 28\n",
      "cid: 21 t: 660.0 ncells: 28\n",
      "cid: 22 t: 660.0 ncells: 28\n",
      "cid: 23 t: 660.0 ncells: 28\n",
      "cid: 24 t: 660.0 ncells: 28\n",
      "cid: 25 t: 660.0 ncells: 28\n",
      "cid: 26 t: 660.0 ncells: 28\n",
      "cid: 27 t: 660.0 ncells: 28\n"
     ]
    },
    {
     "name": "stderr",
     "output_type": "stream",
     "text": [
      "Processing time:  86%|███████████████████████████████████████████████████████████████████████████████████████████████████████████████████████████████████████████████████████▍                        | 68/79 [01:28<00:14,  1.35s/it]"
     ]
    },
    {
     "name": "stdout",
     "output_type": "stream",
     "text": [
      "cid: 0 t: 670.0 ncells: 28\n",
      "cid: 1 t: 670.0 ncells: 28\n",
      "cid: 2 t: 670.0 ncells: 28\n",
      "cid: 3 t: 670.0 ncells: 28\n",
      "cid: 4 t: 670.0 ncells: 28\n",
      "cid: 5 t: 670.0 ncells: 28\n",
      "cid: 6 t: 670.0 ncells: 28\n",
      "cid: 7 t: 670.0 ncells: 28\n",
      "cid: 8 t: 670.0 ncells: 28\n",
      "cid: 9 t: 670.0 ncells: 28\n",
      "cid: 10 t: 670.0 ncells: 28\n",
      "cid: 11 t: 670.0 ncells: 28\n",
      "cid: 12 t: 670.0 ncells: 28\n",
      "cid: 13 t: 670.0 ncells: 28\n",
      "cid: 14 t: 670.0 ncells: 28\n",
      "cid: 15 t: 670.0 ncells: 28\n",
      "cid: 16 t: 670.0 ncells: 28\n",
      "cid: 17 t: 670.0 ncells: 28\n",
      "cid: 18 t: 670.0 ncells: 28\n",
      "cid: 19 t: 670.0 ncells: 28\n",
      "cid: 20 t: 670.0 ncells: 28\n",
      "cid: 21 t: 670.0 ncells: 28\n",
      "cid: 22 t: 670.0 ncells: 28\n",
      "cid: 23 t: 670.0 ncells: 28\n",
      "cid: 24 t: 670.0 ncells: 28\n",
      "cid: 25 t: 670.0 ncells: 28\n",
      "cid: 26 t: 670.0 ncells: 28\n",
      "cid: 27 t: 670.0 ncells: 28\n"
     ]
    },
    {
     "name": "stderr",
     "output_type": "stream",
     "text": [
      "Processing time:  87%|█████████████████████████████████████████████████████████████████████████████████████████████████████████████████████████████████████████████████████████▋                      | 69/79 [01:29<00:13,  1.37s/it]"
     ]
    },
    {
     "name": "stdout",
     "output_type": "stream",
     "text": [
      "cid: 0 t: 680.0 ncells: 30\n",
      "cid: 1 t: 680.0 ncells: 30\n",
      "cid: 2 t: 680.0 ncells: 30\n",
      "cid: 3 t: 680.0 ncells: 30\n",
      "cid: 4 t: 680.0 ncells: 30\n",
      "cid: 5 t: 680.0 ncells: 30\n",
      "cid: 6 t: 680.0 ncells: 30\n",
      "cid: 7 t: 680.0 ncells: 30\n",
      "cid: 8 t: 680.0 ncells: 30\n",
      "cid: 9 t: 680.0 ncells: 30\n",
      "cid: 10 t: 680.0 ncells: 30\n",
      "cid: 11 t: 680.0 ncells: 30\n",
      "cid: 12 t: 680.0 ncells: 30\n",
      "cid: 13 t: 680.0 ncells: 30\n",
      "cid: 14 t: 680.0 ncells: 30\n",
      "cid: 15 t: 680.0 ncells: 30\n",
      "cid: 16 t: 680.0 ncells: 30\n",
      "cid: 17 t: 680.0 ncells: 30\n",
      "cid: 18 t: 680.0 ncells: 30\n",
      "cid: 19 t: 680.0 ncells: 30\n",
      "cid: 20 t: 680.0 ncells: 30\n",
      "cid: 21 t: 680.0 ncells: 30\n",
      "cid: 22 t: 680.0 ncells: 30\n",
      "cid: 23 t: 680.0 ncells: 30\n",
      "cid: 24 t: 680.0 ncells: 30\n",
      "cid: 25 t: 680.0 ncells: 30\n",
      "cid: 26 t: 680.0 ncells: 30\n",
      "cid: 27 t: 680.0 ncells: 30\n",
      "cid: 28 t: 680.0 ncells: 30\n",
      "cid: 29 t: 680.0 ncells: 30\n"
     ]
    },
    {
     "name": "stderr",
     "output_type": "stream",
     "text": [
      "Processing time:  89%|███████████████████████████████████████████████████████████████████████████████████████████████████████████████████████████████████████████████████████████▉                    | 70/79 [01:30<00:12,  1.41s/it]"
     ]
    },
    {
     "name": "stdout",
     "output_type": "stream",
     "text": [
      "cid: 0 t: 690.0 ncells: 30\n",
      "cid: 1 t: 690.0 ncells: 30\n",
      "cid: 2 t: 690.0 ncells: 30\n",
      "cid: 3 t: 690.0 ncells: 30\n",
      "cid: 4 t: 690.0 ncells: 30\n",
      "cid: 5 t: 690.0 ncells: 30\n",
      "cid: 6 t: 690.0 ncells: 30\n",
      "cid: 7 t: 690.0 ncells: 30\n",
      "cid: 8 t: 690.0 ncells: 30\n",
      "cid: 9 t: 690.0 ncells: 30\n",
      "cid: 10 t: 690.0 ncells: 30\n",
      "cid: 11 t: 690.0 ncells: 30\n",
      "cid: 12 t: 690.0 ncells: 30\n",
      "cid: 13 t: 690.0 ncells: 30\n",
      "cid: 14 t: 690.0 ncells: 30\n",
      "cid: 15 t: 690.0 ncells: 30\n",
      "cid: 16 t: 690.0 ncells: 30\n",
      "cid: 17 t: 690.0 ncells: 30\n",
      "cid: 18 t: 690.0 ncells: 30\n",
      "cid: 19 t: 690.0 ncells: 30\n",
      "cid: 20 t: 690.0 ncells: 30\n",
      "cid: 21 t: 690.0 ncells: 30\n",
      "cid: 22 t: 690.0 ncells: 30\n",
      "cid: 23 t: 690.0 ncells: 30\n",
      "cid: 24 t: 690.0 ncells: 30\n",
      "cid: 25 t: 690.0 ncells: 30\n",
      "cid: 26 t: 690.0 ncells: 30\n",
      "cid: 27 t: 690.0 ncells: 30\n",
      "cid: 28 t: 690.0 ncells: 30\n",
      "cid: 29 t: 690.0 ncells: 30\n"
     ]
    },
    {
     "name": "stderr",
     "output_type": "stream",
     "text": [
      "Processing time:  90%|██████████████████████████████████████████████████████████████████████████████████████████████████████████████████████████████████████████████████████████████▏                 | 71/79 [01:32<00:11,  1.45s/it]"
     ]
    },
    {
     "name": "stdout",
     "output_type": "stream",
     "text": [
      "cid: 0 t: 700.0 ncells: 31\n",
      "cid: 1 t: 700.0 ncells: 31\n",
      "cid: 2 t: 700.0 ncells: 31\n",
      "cid: 3 t: 700.0 ncells: 31\n",
      "cid: 4 t: 700.0 ncells: 31\n",
      "cid: 5 t: 700.0 ncells: 31\n",
      "cid: 6 t: 700.0 ncells: 31\n",
      "cid: 7 t: 700.0 ncells: 31\n",
      "cid: 8 t: 700.0 ncells: 31\n",
      "cid: 9 t: 700.0 ncells: 31\n",
      "cid: 10 t: 700.0 ncells: 31\n",
      "cid: 11 t: 700.0 ncells: 31\n",
      "cid: 12 t: 700.0 ncells: 31\n",
      "cid: 13 t: 700.0 ncells: 31\n",
      "cid: 14 t: 700.0 ncells: 31\n",
      "cid: 15 t: 700.0 ncells: 31\n",
      "cid: 16 t: 700.0 ncells: 31\n",
      "cid: 17 t: 700.0 ncells: 31\n",
      "cid: 18 t: 700.0 ncells: 31\n",
      "cid: 19 t: 700.0 ncells: 31\n",
      "cid: 20 t: 700.0 ncells: 31\n",
      "cid: 21 t: 700.0 ncells: 31\n",
      "cid: 22 t: 700.0 ncells: 31\n",
      "cid: 23 t: 700.0 ncells: 31\n",
      "cid: 24 t: 700.0 ncells: 31\n",
      "cid: 25 t: 700.0 ncells: 31\n",
      "cid: 26 t: 700.0 ncells: 31\n",
      "cid: 27 t: 700.0 ncells: 31\n",
      "cid: 28 t: 700.0 ncells: 31\n",
      "cid: 29 t: 700.0 ncells: 31\n",
      "cid: 30 t: 700.0 ncells: 31\n"
     ]
    },
    {
     "name": "stderr",
     "output_type": "stream",
     "text": [
      "Processing time:  91%|████████████████████████████████████████████████████████████████████████████████████████████████████████████████████████████████████████████████████████████████▍               | 72/79 [01:33<00:10,  1.45s/it]"
     ]
    },
    {
     "name": "stdout",
     "output_type": "stream",
     "text": [
      "cid: 0 t: 710.0 ncells: 32\n",
      "cid: 1 t: 710.0 ncells: 32\n",
      "cid: 2 t: 710.0 ncells: 32\n",
      "cid: 3 t: 710.0 ncells: 32\n",
      "cid: 4 t: 710.0 ncells: 32\n",
      "cid: 5 t: 710.0 ncells: 32\n",
      "cid: 6 t: 710.0 ncells: 32\n",
      "cid: 7 t: 710.0 ncells: 32\n",
      "cid: 8 t: 710.0 ncells: 32\n",
      "cid: 9 t: 710.0 ncells: 32\n",
      "cid: 10 t: 710.0 ncells: 32\n",
      "cid: 11 t: 710.0 ncells: 32\n",
      "cid: 12 t: 710.0 ncells: 32\n",
      "cid: 13 t: 710.0 ncells: 32\n",
      "cid: 14 t: 710.0 ncells: 32\n",
      "cid: 15 t: 710.0 ncells: 32\n",
      "cid: 16 t: 710.0 ncells: 32\n",
      "cid: 17 t: 710.0 ncells: 32\n",
      "cid: 18 t: 710.0 ncells: 32\n",
      "cid: 19 t: 710.0 ncells: 32\n",
      "cid: 20 t: 710.0 ncells: 32\n",
      "cid: 21 t: 710.0 ncells: 32\n",
      "cid: 22 t: 710.0 ncells: 32\n",
      "cid: 23 t: 710.0 ncells: 32\n",
      "cid: 24 t: 710.0 ncells: 32\n",
      "cid: 25 t: 710.0 ncells: 32\n",
      "cid: 26 t: 710.0 ncells: 32\n",
      "cid: 27 t: 710.0 ncells: 32\n",
      "cid: 28 t: 710.0 ncells: 32\n",
      "cid: 29 t: 710.0 ncells: 32\n",
      "cid: 30 t: 710.0 ncells: 32\n",
      "cid: 31 t: 710.0 ncells: 32\n"
     ]
    },
    {
     "name": "stderr",
     "output_type": "stream",
     "text": [
      "Processing time:  92%|██████████████████████████████████████████████████████████████████████████████████████████████████████████████████████████████████████████████████████████████████▋             | 73/79 [01:35<00:08,  1.46s/it]"
     ]
    },
    {
     "name": "stdout",
     "output_type": "stream",
     "text": [
      "cid: 0 t: 720.0 ncells: 32\n",
      "cid: 1 t: 720.0 ncells: 32\n",
      "cid: 2 t: 720.0 ncells: 32\n",
      "cid: 3 t: 720.0 ncells: 32\n",
      "cid: 4 t: 720.0 ncells: 32\n",
      "cid: 5 t: 720.0 ncells: 32\n",
      "cid: 6 t: 720.0 ncells: 32\n",
      "cid: 7 t: 720.0 ncells: 32\n",
      "cid: 8 t: 720.0 ncells: 32\n",
      "cid: 9 t: 720.0 ncells: 32\n",
      "cid: 10 t: 720.0 ncells: 32\n",
      "cid: 11 t: 720.0 ncells: 32\n",
      "cid: 12 t: 720.0 ncells: 32\n",
      "cid: 13 t: 720.0 ncells: 32\n",
      "cid: 14 t: 720.0 ncells: 32\n",
      "cid: 15 t: 720.0 ncells: 32\n",
      "cid: 16 t: 720.0 ncells: 32\n",
      "cid: 17 t: 720.0 ncells: 32\n",
      "cid: 18 t: 720.0 ncells: 32\n",
      "cid: 19 t: 720.0 ncells: 32\n",
      "cid: 20 t: 720.0 ncells: 32\n",
      "cid: 21 t: 720.0 ncells: 32\n",
      "cid: 22 t: 720.0 ncells: 32\n",
      "cid: 23 t: 720.0 ncells: 32\n",
      "cid: 24 t: 720.0 ncells: 32\n",
      "cid: 25 t: 720.0 ncells: 32\n",
      "cid: 26 t: 720.0 ncells: 32\n",
      "cid: 27 t: 720.0 ncells: 32\n",
      "cid: 28 t: 720.0 ncells: 32\n",
      "cid: 29 t: 720.0 ncells: 32\n",
      "cid: 30 t: 720.0 ncells: 32\n",
      "cid: 31 t: 720.0 ncells: 32\n"
     ]
    },
    {
     "name": "stderr",
     "output_type": "stream",
     "text": [
      "Processing time:  94%|████████████████████████████████████████████████████████████████████████████████████████████████████████████████████████████████████████████████████████████████████▊           | 74/79 [01:37<00:07,  1.49s/it]"
     ]
    },
    {
     "name": "stdout",
     "output_type": "stream",
     "text": [
      "cid: 0 t: 730.0 ncells: 34\n",
      "cid: 1 t: 730.0 ncells: 34\n",
      "cid: 2 t: 730.0 ncells: 34\n",
      "cid: 3 t: 730.0 ncells: 34\n",
      "cid: 4 t: 730.0 ncells: 34\n",
      "cid: 5 t: 730.0 ncells: 34\n",
      "cid: 6 t: 730.0 ncells: 34\n",
      "cid: 7 t: 730.0 ncells: 34\n",
      "cid: 8 t: 730.0 ncells: 34\n",
      "cid: 9 t: 730.0 ncells: 34\n",
      "cid: 10 t: 730.0 ncells: 34\n",
      "cid: 11 t: 730.0 ncells: 34\n",
      "cid: 12 t: 730.0 ncells: 34\n",
      "cid: 13 t: 730.0 ncells: 34\n",
      "cid: 14 t: 730.0 ncells: 34\n",
      "cid: 15 t: 730.0 ncells: 34\n",
      "cid: 16 t: 730.0 ncells: 34\n",
      "cid: 17 t: 730.0 ncells: 34\n",
      "cid: 18 t: 730.0 ncells: 34\n",
      "cid: 19 t: 730.0 ncells: 34\n",
      "cid: 20 t: 730.0 ncells: 34\n",
      "cid: 21 t: 730.0 ncells: 34\n",
      "cid: 22 t: 730.0 ncells: 34\n",
      "cid: 23 t: 730.0 ncells: 34\n",
      "cid: 24 t: 730.0 ncells: 34\n",
      "cid: 25 t: 730.0 ncells: 34\n",
      "cid: 26 t: 730.0 ncells: 34\n",
      "cid: 27 t: 730.0 ncells: 34\n",
      "cid: 28 t: 730.0 ncells: 34\n",
      "cid: 29 t: 730.0 ncells: 34\n",
      "cid: 30 t: 730.0 ncells: 34\n",
      "cid: 31 t: 730.0 ncells: 34\n",
      "cid: 32 t: 730.0 ncells: 34\n",
      "cid: 33 t: 730.0 ncells: 34\n"
     ]
    },
    {
     "name": "stderr",
     "output_type": "stream",
     "text": [
      "Processing time:  95%|███████████████████████████████████████████████████████████████████████████████████████████████████████████████████████████████████████████████████████████████████████         | 75/79 [01:38<00:05,  1.50s/it]"
     ]
    },
    {
     "name": "stdout",
     "output_type": "stream",
     "text": [
      "cid: 0 t: 740.0 ncells: 34\n",
      "cid: 1 t: 740.0 ncells: 34\n",
      "cid: 2 t: 740.0 ncells: 34\n",
      "cid: 3 t: 740.0 ncells: 34\n",
      "cid: 4 t: 740.0 ncells: 34\n",
      "cid: 5 t: 740.0 ncells: 34\n",
      "cid: 6 t: 740.0 ncells: 34\n",
      "cid: 7 t: 740.0 ncells: 34\n",
      "cid: 8 t: 740.0 ncells: 34\n",
      "cid: 9 t: 740.0 ncells: 34\n",
      "cid: 10 t: 740.0 ncells: 34\n",
      "cid: 11 t: 740.0 ncells: 34\n",
      "cid: 12 t: 740.0 ncells: 34\n",
      "cid: 13 t: 740.0 ncells: 34\n",
      "cid: 14 t: 740.0 ncells: 34\n",
      "cid: 15 t: 740.0 ncells: 34\n",
      "cid: 16 t: 740.0 ncells: 34\n",
      "cid: 17 t: 740.0 ncells: 34\n",
      "cid: 18 t: 740.0 ncells: 34\n",
      "cid: 19 t: 740.0 ncells: 34\n",
      "cid: 20 t: 740.0 ncells: 34\n",
      "cid: 21 t: 740.0 ncells: 34\n",
      "cid: 22 t: 740.0 ncells: 34\n",
      "cid: 23 t: 740.0 ncells: 34\n",
      "cid: 24 t: 740.0 ncells: 34\n",
      "cid: 25 t: 740.0 ncells: 34\n",
      "cid: 26 t: 740.0 ncells: 34\n",
      "cid: 27 t: 740.0 ncells: 34\n",
      "cid: 28 t: 740.0 ncells: 34\n",
      "cid: 29 t: 740.0 ncells: 34\n",
      "cid: 30 t: 740.0 ncells: 34\n",
      "cid: 31 t: 740.0 ncells: 34\n",
      "cid: 32 t: 740.0 ncells: 34\n",
      "cid: 33 t: 740.0 ncells: 34\n"
     ]
    },
    {
     "name": "stderr",
     "output_type": "stream",
     "text": [
      "Processing time:  96%|█████████████████████████████████████████████████████████████████████████████████████████████████████████████████████████████████████████████████████████████████████████▎      | 76/79 [01:40<00:04,  1.52s/it]"
     ]
    },
    {
     "name": "stdout",
     "output_type": "stream",
     "text": [
      "cid: 0 t: 750.0 ncells: 35\n",
      "cid: 1 t: 750.0 ncells: 35\n",
      "cid: 2 t: 750.0 ncells: 35\n",
      "cid: 3 t: 750.0 ncells: 35\n",
      "cid: 4 t: 750.0 ncells: 35\n",
      "cid: 5 t: 750.0 ncells: 35\n",
      "cid: 6 t: 750.0 ncells: 35\n",
      "cid: 7 t: 750.0 ncells: 35\n",
      "cid: 8 t: 750.0 ncells: 35\n",
      "cid: 9 t: 750.0 ncells: 35\n",
      "cid: 10 t: 750.0 ncells: 35\n",
      "cid: 11 t: 750.0 ncells: 35\n",
      "cid: 12 t: 750.0 ncells: 35\n",
      "cid: 13 t: 750.0 ncells: 35\n",
      "cid: 14 t: 750.0 ncells: 35\n",
      "cid: 15 t: 750.0 ncells: 35\n",
      "cid: 16 t: 750.0 ncells: 35\n",
      "cid: 17 t: 750.0 ncells: 35\n",
      "cid: 18 t: 750.0 ncells: 35\n",
      "cid: 19 t: 750.0 ncells: 35\n",
      "cid: 20 t: 750.0 ncells: 35\n",
      "cid: 21 t: 750.0 ncells: 35\n",
      "cid: 22 t: 750.0 ncells: 35\n",
      "cid: 23 t: 750.0 ncells: 35\n",
      "cid: 24 t: 750.0 ncells: 35\n",
      "cid: 25 t: 750.0 ncells: 35\n",
      "cid: 26 t: 750.0 ncells: 35\n",
      "cid: 27 t: 750.0 ncells: 35\n",
      "cid: 28 t: 750.0 ncells: 35\n",
      "cid: 29 t: 750.0 ncells: 35\n",
      "cid: 30 t: 750.0 ncells: 35\n",
      "cid: 31 t: 750.0 ncells: 35\n",
      "cid: 32 t: 750.0 ncells: 35\n",
      "cid: 33 t: 750.0 ncells: 35\n",
      "cid: 34 t: 750.0 ncells: 35\n"
     ]
    },
    {
     "name": "stderr",
     "output_type": "stream",
     "text": [
      "Processing time:  97%|███████████████████████████████████████████████████████████████████████████████████████████████████████████████████████████████████████████████████████████████████████████▌    | 77/79 [01:41<00:03,  1.53s/it]"
     ]
    },
    {
     "name": "stdout",
     "output_type": "stream",
     "text": [
      "cid: 0 t: 760.0 ncells: 35\n",
      "cid: 1 t: 760.0 ncells: 35\n",
      "cid: 2 t: 760.0 ncells: 35\n",
      "cid: 3 t: 760.0 ncells: 35\n",
      "cid: 4 t: 760.0 ncells: 35\n",
      "cid: 5 t: 760.0 ncells: 35\n",
      "cid: 6 t: 760.0 ncells: 35\n",
      "cid: 7 t: 760.0 ncells: 35\n",
      "cid: 8 t: 760.0 ncells: 35\n",
      "cid: 9 t: 760.0 ncells: 35\n",
      "cid: 10 t: 760.0 ncells: 35\n",
      "cid: 11 t: 760.0 ncells: 35\n",
      "cid: 12 t: 760.0 ncells: 35\n",
      "cid: 13 t: 760.0 ncells: 35\n",
      "cid: 14 t: 760.0 ncells: 35\n",
      "cid: 15 t: 760.0 ncells: 35\n",
      "cid: 16 t: 760.0 ncells: 35\n",
      "cid: 17 t: 760.0 ncells: 35\n",
      "cid: 18 t: 760.0 ncells: 35\n",
      "cid: 19 t: 760.0 ncells: 35\n",
      "cid: 20 t: 760.0 ncells: 35\n",
      "cid: 21 t: 760.0 ncells: 35\n",
      "cid: 22 t: 760.0 ncells: 35\n",
      "cid: 23 t: 760.0 ncells: 35\n",
      "cid: 24 t: 760.0 ncells: 35\n",
      "cid: 25 t: 760.0 ncells: 35\n",
      "cid: 26 t: 760.0 ncells: 35\n",
      "cid: 27 t: 760.0 ncells: 35\n",
      "cid: 28 t: 760.0 ncells: 35\n",
      "cid: 29 t: 760.0 ncells: 35\n",
      "cid: 30 t: 760.0 ncells: 35\n",
      "cid: 31 t: 760.0 ncells: 35\n",
      "cid: 32 t: 760.0 ncells: 35\n",
      "cid: 33 t: 760.0 ncells: 35\n",
      "cid: 34 t: 760.0 ncells: 35\n"
     ]
    },
    {
     "name": "stderr",
     "output_type": "stream",
     "text": [
      "Processing time:  99%|█████████████████████████████████████████████████████████████████████████████████████████████████████████████████████████████████████████████████████████████████████████████▊  | 78/79 [01:43<00:01,  1.60s/it]"
     ]
    },
    {
     "name": "stdout",
     "output_type": "stream",
     "text": [
      "cid: 0 t: 770.0 ncells: 36\n",
      "cid: 1 t: 770.0 ncells: 36\n",
      "cid: 2 t: 770.0 ncells: 36\n",
      "cid: 3 t: 770.0 ncells: 36\n",
      "cid: 4 t: 770.0 ncells: 36\n",
      "cid: 5 t: 770.0 ncells: 36\n",
      "cid: 6 t: 770.0 ncells: 36\n",
      "cid: 7 t: 770.0 ncells: 36\n",
      "cid: 8 t: 770.0 ncells: 36\n",
      "cid: 9 t: 770.0 ncells: 36\n",
      "cid: 10 t: 770.0 ncells: 36\n",
      "cid: 11 t: 770.0 ncells: 36\n",
      "cid: 12 t: 770.0 ncells: 36\n",
      "cid: 13 t: 770.0 ncells: 36\n",
      "cid: 14 t: 770.0 ncells: 36\n",
      "cid: 15 t: 770.0 ncells: 36\n",
      "cid: 16 t: 770.0 ncells: 36\n",
      "cid: 17 t: 770.0 ncells: 36\n",
      "cid: 18 t: 770.0 ncells: 36\n",
      "cid: 19 t: 770.0 ncells: 36\n",
      "cid: 20 t: 770.0 ncells: 36\n",
      "cid: 21 t: 770.0 ncells: 36\n",
      "cid: 22 t: 770.0 ncells: 36\n",
      "cid: 23 t: 770.0 ncells: 36\n",
      "cid: 24 t: 770.0 ncells: 36\n",
      "cid: 25 t: 770.0 ncells: 36\n",
      "cid: 26 t: 770.0 ncells: 36\n",
      "cid: 27 t: 770.0 ncells: 36\n",
      "cid: 28 t: 770.0 ncells: 36\n",
      "cid: 29 t: 770.0 ncells: 36\n",
      "cid: 30 t: 770.0 ncells: 36\n",
      "cid: 31 t: 770.0 ncells: 36\n",
      "cid: 32 t: 770.0 ncells: 36\n",
      "cid: 33 t: 770.0 ncells: 36\n",
      "cid: 34 t: 770.0 ncells: 36\n",
      "cid: 35 t: 770.0 ncells: 36\n"
     ]
    },
    {
     "name": "stderr",
     "output_type": "stream",
     "text": [
      "Processing time: 100%|████████████████████████████████████████████████████████████████████████████████████████████████████████████████████████████████████████████████████████████████████████████████| 79/79 [01:45<00:00,  1.33s/it]"
     ]
    },
    {
     "name": "stdout",
     "output_type": "stream",
     "text": [
      "cid: 0 t: 780.0 ncells: 36\n",
      "cid: 1 t: 780.0 ncells: 36\n",
      "cid: 2 t: 780.0 ncells: 36\n",
      "cid: 3 t: 780.0 ncells: 36\n",
      "cid: 4 t: 780.0 ncells: 36\n",
      "cid: 5 t: 780.0 ncells: 36\n",
      "cid: 6 t: 780.0 ncells: 36\n",
      "cid: 7 t: 780.0 ncells: 36\n",
      "cid: 8 t: 780.0 ncells: 36\n",
      "cid: 9 t: 780.0 ncells: 36\n",
      "cid: 10 t: 780.0 ncells: 36\n",
      "cid: 11 t: 780.0 ncells: 36\n",
      "cid: 12 t: 780.0 ncells: 36\n",
      "cid: 13 t: 780.0 ncells: 36\n",
      "cid: 14 t: 780.0 ncells: 36\n",
      "cid: 15 t: 780.0 ncells: 36\n",
      "cid: 16 t: 780.0 ncells: 36\n",
      "cid: 17 t: 780.0 ncells: 36\n",
      "cid: 18 t: 780.0 ncells: 36\n",
      "cid: 19 t: 780.0 ncells: 36\n",
      "cid: 20 t: 780.0 ncells: 36\n",
      "cid: 21 t: 780.0 ncells: 36\n",
      "cid: 22 t: 780.0 ncells: 36\n",
      "cid: 23 t: 780.0 ncells: 36\n",
      "cid: 24 t: 780.0 ncells: 36\n",
      "cid: 25 t: 780.0 ncells: 36\n",
      "cid: 26 t: 780.0 ncells: 36\n",
      "cid: 27 t: 780.0 ncells: 36\n",
      "cid: 28 t: 780.0 ncells: 36\n",
      "cid: 29 t: 780.0 ncells: 36\n",
      "cid: 30 t: 780.0 ncells: 36\n",
      "cid: 31 t: 780.0 ncells: 36\n",
      "cid: 32 t: 780.0 ncells: 36\n",
      "cid: 33 t: 780.0 ncells: 36\n",
      "cid: 34 t: 780.0 ncells: 36\n",
      "cid: 35 t: 780.0 ncells: 36\n"
     ]
    },
    {
     "name": "stderr",
     "output_type": "stream",
     "text": [
      "\n"
     ]
    }
   ],
   "source": [
    "# Load data\n",
    "ar = archive.loadarchive('mpress-full')\n",
    "cellHist = read_cellHist_binary('cellHist.bin')\n",
    "lineage_data = []\n",
    "tml0 = float('-inf')\n",
    "\n",
    "for t, cmap in tqdm(cellHist,desc=f'Processing time'):\n",
    "    if t > tml0:\n",
    "        tml0 = t\n",
    "    frame = ar.read_frame(int(t/10))\n",
    "    R = frame.parameters['R']\n",
    "    wall_thickness = frame.parameters['wall_thickness']\n",
    "    \n",
    "    # Count generations efficiently\n",
    "    total_cells = 0\n",
    "    for cid, info in cmap.items():\n",
    "        print(f'cid: {cid} t: {t} ncells: {len(frame.phi)}')"
   ]
  },
  {
   "cell_type": "code",
   "execution_count": null,
   "id": "b9768a73-ff1c-443f-b613-bedeb13a15ee",
   "metadata": {},
   "outputs": [],
   "source": []
  }
 ],
 "metadata": {
  "kernelspec": {
   "display_name": "Python 3 (ipykernel)",
   "language": "python",
   "name": "python3"
  },
  "language_info": {
   "codemirror_mode": {
    "name": "ipython",
    "version": 3
   },
   "file_extension": ".py",
   "mimetype": "text/x-python",
   "name": "python",
   "nbconvert_exporter": "python",
   "pygments_lexer": "ipython3",
   "version": "3.10.12"
  }
 },
 "nbformat": 4,
 "nbformat_minor": 5
}
